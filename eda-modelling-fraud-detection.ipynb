{
 "cells": [
  {
   "cell_type": "code",
   "execution_count": 1,
   "id": "d5b2e195",
   "metadata": {
    "_cell_guid": "b1076dfc-b9ad-4769-8c92-a6c4dae69d19",
    "_uuid": "8f2839f25d086af736a60e9eeb907d3b93b6e0e5",
    "execution": {
     "iopub.execute_input": "2024-01-13T20:00:02.477530Z",
     "iopub.status.busy": "2024-01-13T20:00:02.477014Z",
     "iopub.status.idle": "2024-01-13T20:00:03.394451Z",
     "shell.execute_reply": "2024-01-13T20:00:03.392778Z"
    },
    "papermill": {
     "duration": 0.935859,
     "end_time": "2024-01-13T20:00:03.397707",
     "exception": false,
     "start_time": "2024-01-13T20:00:02.461848",
     "status": "completed"
    },
    "tags": []
   },
   "outputs": [
    {
     "name": "stdout",
     "output_type": "stream",
     "text": [
      "/kaggle/input/transactions-data-bank-fraud-detection/Fraud.csv\n"
     ]
    }
   ],
   "source": [
    "# This Python 3 environment comes with many helpful analytics libraries installed\n",
    "# It is defined by the kaggle/python Docker image: https://github.com/kaggle/docker-python\n",
    "# For example, here's several helpful packages to load\n",
    "\n",
    "import numpy as np # linear algebra\n",
    "import pandas as pd # data processing, CSV file I/O (e.g. pd.read_csv)\n",
    "\n",
    "# Input data files are available in the read-only \"../input/\" directory\n",
    "# For example, running this (by clicking run or pressing Shift+Enter) will list all files under the input directory\n",
    "\n",
    "import os\n",
    "for dirname, _, filenames in os.walk('/kaggle/input'):\n",
    "    for filename in filenames:\n",
    "        print(os.path.join(dirname, filename))\n",
    "\n",
    "# You can write up to 20GB to the current directory (/kaggle/working/) that gets preserved as output when you create a version using \"Save & Run All\" \n",
    "# You can also write temporary files to /kaggle/temp/, but they won't be saved outside of the current session"
   ]
  },
  {
   "cell_type": "code",
   "execution_count": 2,
   "id": "70de952b",
   "metadata": {
    "execution": {
     "iopub.execute_input": "2024-01-13T20:00:03.425881Z",
     "iopub.status.busy": "2024-01-13T20:00:03.423728Z",
     "iopub.status.idle": "2024-01-13T20:00:57.367170Z",
     "shell.execute_reply": "2024-01-13T20:00:57.365453Z"
    },
    "papermill": {
     "duration": 53.960345,
     "end_time": "2024-01-13T20:00:57.370525",
     "exception": false,
     "start_time": "2024-01-13T20:00:03.410180",
     "status": "completed"
    },
    "tags": []
   },
   "outputs": [
    {
     "name": "stderr",
     "output_type": "stream",
     "text": [
      "/tmp/ipykernel_19/2485261295.py:1: UserWarning: Could not infer format, so each element will be parsed individually, falling back to `dateutil`. To ensure parsing is consistent and as-expected, please specify a format.\n",
      "  fraud_df = pd.read_csv(\"/kaggle/input/transactions-data-bank-fraud-detection/Fraud.csv\", parse_dates=[\"Date\"])\n"
     ]
    }
   ],
   "source": [
    "fraud_df = pd.read_csv(\"/kaggle/input/transactions-data-bank-fraud-detection/Fraud.csv\", parse_dates=[\"Date\"])"
   ]
  },
  {
   "cell_type": "code",
   "execution_count": 3,
   "id": "4f9ffd9e",
   "metadata": {
    "execution": {
     "iopub.execute_input": "2024-01-13T20:00:57.396556Z",
     "iopub.status.busy": "2024-01-13T20:00:57.396098Z",
     "iopub.status.idle": "2024-01-13T20:00:57.431484Z",
     "shell.execute_reply": "2024-01-13T20:00:57.429937Z"
    },
    "papermill": {
     "duration": 0.051348,
     "end_time": "2024-01-13T20:00:57.434181",
     "exception": false,
     "start_time": "2024-01-13T20:00:57.382833",
     "status": "completed"
    },
    "tags": []
   },
   "outputs": [
    {
     "data": {
      "text/html": [
       "<div>\n",
       "<style scoped>\n",
       "    .dataframe tbody tr th:only-of-type {\n",
       "        vertical-align: middle;\n",
       "    }\n",
       "\n",
       "    .dataframe tbody tr th {\n",
       "        vertical-align: top;\n",
       "    }\n",
       "\n",
       "    .dataframe thead th {\n",
       "        text-align: right;\n",
       "    }\n",
       "</style>\n",
       "<table border=\"1\" class=\"dataframe\">\n",
       "  <thead>\n",
       "    <tr style=\"text-align: right;\">\n",
       "      <th></th>\n",
       "      <th>Date</th>\n",
       "      <th>nameOrig</th>\n",
       "      <th>amount</th>\n",
       "      <th>oldbalanceOrg</th>\n",
       "      <th>newbalanceOrig</th>\n",
       "      <th>City</th>\n",
       "      <th>type</th>\n",
       "      <th>Card Type</th>\n",
       "      <th>Exp Type</th>\n",
       "      <th>Gender</th>\n",
       "      <th>isFraud</th>\n",
       "    </tr>\n",
       "  </thead>\n",
       "  <tbody>\n",
       "    <tr>\n",
       "      <th>0</th>\n",
       "      <td>2013-05-26</td>\n",
       "      <td>C2011200430</td>\n",
       "      <td>242.0</td>\n",
       "      <td>302.0</td>\n",
       "      <td>60.0</td>\n",
       "      <td>Ahmedabad, India</td>\n",
       "      <td>TRANSFER</td>\n",
       "      <td>Gold</td>\n",
       "      <td>Food</td>\n",
       "      <td>F</td>\n",
       "      <td>1</td>\n",
       "    </tr>\n",
       "    <tr>\n",
       "      <th>1</th>\n",
       "      <td>2012-07-26</td>\n",
       "      <td>C931301500</td>\n",
       "      <td>7081.0</td>\n",
       "      <td>46066.0</td>\n",
       "      <td>38985.0</td>\n",
       "      <td>Delhi, India</td>\n",
       "      <td>TRANSFER</td>\n",
       "      <td>Gold</td>\n",
       "      <td>Entertainment</td>\n",
       "      <td>M</td>\n",
       "      <td>1</td>\n",
       "    </tr>\n",
       "    <tr>\n",
       "      <th>2</th>\n",
       "      <td>2012-04-12</td>\n",
       "      <td>C963642457</td>\n",
       "      <td>16355.0</td>\n",
       "      <td>30355.0</td>\n",
       "      <td>14000.0</td>\n",
       "      <td>Kolkata, India</td>\n",
       "      <td>TRANSFER</td>\n",
       "      <td>Silver</td>\n",
       "      <td>Fuel</td>\n",
       "      <td>F</td>\n",
       "      <td>1</td>\n",
       "    </tr>\n",
       "    <tr>\n",
       "      <th>3</th>\n",
       "      <td>2012-01-28</td>\n",
       "      <td>C1439438217</td>\n",
       "      <td>20820.0</td>\n",
       "      <td>39663.0</td>\n",
       "      <td>18843.0</td>\n",
       "      <td>Lucknow, India</td>\n",
       "      <td>TRANSFER</td>\n",
       "      <td>Gold</td>\n",
       "      <td>Food</td>\n",
       "      <td>F</td>\n",
       "      <td>1</td>\n",
       "    </tr>\n",
       "    <tr>\n",
       "      <th>4</th>\n",
       "      <td>2014-04-16</td>\n",
       "      <td>C892940485</td>\n",
       "      <td>6071.0</td>\n",
       "      <td>35586.0</td>\n",
       "      <td>29515.0</td>\n",
       "      <td>Bengaluru, India</td>\n",
       "      <td>TRANSFER</td>\n",
       "      <td>Gold</td>\n",
       "      <td>Fuel</td>\n",
       "      <td>M</td>\n",
       "      <td>1</td>\n",
       "    </tr>\n",
       "  </tbody>\n",
       "</table>\n",
       "</div>"
      ],
      "text/plain": [
       "        Date     nameOrig   amount  oldbalanceOrg  newbalanceOrig  \\\n",
       "0 2013-05-26  C2011200430    242.0          302.0            60.0   \n",
       "1 2012-07-26   C931301500   7081.0        46066.0         38985.0   \n",
       "2 2012-04-12   C963642457  16355.0        30355.0         14000.0   \n",
       "3 2012-01-28  C1439438217  20820.0        39663.0         18843.0   \n",
       "4 2014-04-16   C892940485   6071.0        35586.0         29515.0   \n",
       "\n",
       "               City      type Card Type       Exp Type Gender  isFraud  \n",
       "0  Ahmedabad, India  TRANSFER      Gold           Food      F        1  \n",
       "1      Delhi, India  TRANSFER      Gold  Entertainment      M        1  \n",
       "2    Kolkata, India  TRANSFER    Silver           Fuel      F        1  \n",
       "3    Lucknow, India  TRANSFER      Gold           Food      F        1  \n",
       "4  Bengaluru, India  TRANSFER      Gold           Fuel      M        1  "
      ]
     },
     "execution_count": 3,
     "metadata": {},
     "output_type": "execute_result"
    }
   ],
   "source": [
    "fraud_df.head()"
   ]
  },
  {
   "cell_type": "code",
   "execution_count": 4,
   "id": "bc9be4b7",
   "metadata": {
    "execution": {
     "iopub.execute_input": "2024-01-13T20:00:57.461263Z",
     "iopub.status.busy": "2024-01-13T20:00:57.460877Z",
     "iopub.status.idle": "2024-01-13T20:00:57.656923Z",
     "shell.execute_reply": "2024-01-13T20:00:57.656115Z"
    },
    "papermill": {
     "duration": 0.211483,
     "end_time": "2024-01-13T20:00:57.658917",
     "exception": false,
     "start_time": "2024-01-13T20:00:57.447434",
     "status": "completed"
    },
    "tags": []
   },
   "outputs": [
    {
     "data": {
      "text/html": [
       "<div>\n",
       "<style scoped>\n",
       "    .dataframe tbody tr th:only-of-type {\n",
       "        vertical-align: middle;\n",
       "    }\n",
       "\n",
       "    .dataframe tbody tr th {\n",
       "        vertical-align: top;\n",
       "    }\n",
       "\n",
       "    .dataframe thead th {\n",
       "        text-align: right;\n",
       "    }\n",
       "</style>\n",
       "<table border=\"1\" class=\"dataframe\">\n",
       "  <thead>\n",
       "    <tr style=\"text-align: right;\">\n",
       "      <th></th>\n",
       "      <th>Date</th>\n",
       "      <th>amount</th>\n",
       "      <th>oldbalanceOrg</th>\n",
       "      <th>newbalanceOrig</th>\n",
       "      <th>isFraud</th>\n",
       "    </tr>\n",
       "  </thead>\n",
       "  <tbody>\n",
       "    <tr>\n",
       "      <th>count</th>\n",
       "      <td>1048574</td>\n",
       "      <td>1.048574e+06</td>\n",
       "      <td>1.048574e+06</td>\n",
       "      <td>1.048574e+06</td>\n",
       "      <td>1.048574e+06</td>\n",
       "    </tr>\n",
       "    <tr>\n",
       "      <th>mean</th>\n",
       "      <td>2013-02-26 19:18:36.892847104</td>\n",
       "      <td>3.802767e+04</td>\n",
       "      <td>8.801983e+05</td>\n",
       "      <td>8.421706e+05</td>\n",
       "      <td>1.676420e-01</td>\n",
       "    </tr>\n",
       "    <tr>\n",
       "      <th>min</th>\n",
       "      <td>2011-10-09 00:00:00</td>\n",
       "      <td>0.000000e+00</td>\n",
       "      <td>0.000000e+00</td>\n",
       "      <td>0.000000e+00</td>\n",
       "      <td>0.000000e+00</td>\n",
       "    </tr>\n",
       "    <tr>\n",
       "      <th>25%</th>\n",
       "      <td>2012-06-18 00:00:00</td>\n",
       "      <td>6.470000e+02</td>\n",
       "      <td>4.343812e+03</td>\n",
       "      <td>9.180000e+02</td>\n",
       "      <td>0.000000e+00</td>\n",
       "    </tr>\n",
       "    <tr>\n",
       "      <th>50%</th>\n",
       "      <td>2013-02-26 00:00:00</td>\n",
       "      <td>8.263000e+03</td>\n",
       "      <td>3.653918e+04</td>\n",
       "      <td>2.055200e+04</td>\n",
       "      <td>0.000000e+00</td>\n",
       "    </tr>\n",
       "    <tr>\n",
       "      <th>75%</th>\n",
       "      <td>2013-11-05 00:00:00</td>\n",
       "      <td>2.365000e+04</td>\n",
       "      <td>1.366425e+05</td>\n",
       "      <td>9.030729e+04</td>\n",
       "      <td>0.000000e+00</td>\n",
       "    </tr>\n",
       "    <tr>\n",
       "      <th>max</th>\n",
       "      <td>2015-05-26 00:00:00</td>\n",
       "      <td>1.000000e+07</td>\n",
       "      <td>3.890000e+07</td>\n",
       "      <td>3.889319e+07</td>\n",
       "      <td>1.000000e+00</td>\n",
       "    </tr>\n",
       "    <tr>\n",
       "      <th>std</th>\n",
       "      <td>NaN</td>\n",
       "      <td>1.105168e+05</td>\n",
       "      <td>2.969968e+06</td>\n",
       "      <td>2.936373e+06</td>\n",
       "      <td>3.735482e-01</td>\n",
       "    </tr>\n",
       "  </tbody>\n",
       "</table>\n",
       "</div>"
      ],
      "text/plain": [
       "                                Date        amount  oldbalanceOrg  \\\n",
       "count                        1048574  1.048574e+06   1.048574e+06   \n",
       "mean   2013-02-26 19:18:36.892847104  3.802767e+04   8.801983e+05   \n",
       "min              2011-10-09 00:00:00  0.000000e+00   0.000000e+00   \n",
       "25%              2012-06-18 00:00:00  6.470000e+02   4.343812e+03   \n",
       "50%              2013-02-26 00:00:00  8.263000e+03   3.653918e+04   \n",
       "75%              2013-11-05 00:00:00  2.365000e+04   1.366425e+05   \n",
       "max              2015-05-26 00:00:00  1.000000e+07   3.890000e+07   \n",
       "std                              NaN  1.105168e+05   2.969968e+06   \n",
       "\n",
       "       newbalanceOrig       isFraud  \n",
       "count    1.048574e+06  1.048574e+06  \n",
       "mean     8.421706e+05  1.676420e-01  \n",
       "min      0.000000e+00  0.000000e+00  \n",
       "25%      9.180000e+02  0.000000e+00  \n",
       "50%      2.055200e+04  0.000000e+00  \n",
       "75%      9.030729e+04  0.000000e+00  \n",
       "max      3.889319e+07  1.000000e+00  \n",
       "std      2.936373e+06  3.735482e-01  "
      ]
     },
     "execution_count": 4,
     "metadata": {},
     "output_type": "execute_result"
    }
   ],
   "source": [
    "fraud_df.describe()"
   ]
  },
  {
   "cell_type": "markdown",
   "id": "5187ebcf",
   "metadata": {
    "papermill": {
     "duration": 0.011973,
     "end_time": "2024-01-13T20:00:57.684035",
     "exception": false,
     "start_time": "2024-01-13T20:00:57.672062",
     "status": "completed"
    },
    "tags": []
   },
   "source": [
    "### Split Train/Test Data"
   ]
  },
  {
   "cell_type": "code",
   "execution_count": 5,
   "id": "2a233f92",
   "metadata": {
    "execution": {
     "iopub.execute_input": "2024-01-13T20:00:57.709890Z",
     "iopub.status.busy": "2024-01-13T20:00:57.709456Z",
     "iopub.status.idle": "2024-01-13T20:00:59.081108Z",
     "shell.execute_reply": "2024-01-13T20:00:59.079264Z"
    },
    "papermill": {
     "duration": 1.388554,
     "end_time": "2024-01-13T20:00:59.084482",
     "exception": false,
     "start_time": "2024-01-13T20:00:57.695928",
     "status": "completed"
    },
    "tags": []
   },
   "outputs": [],
   "source": [
    "from sklearn.model_selection import StratifiedShuffleSplit\n",
    "from sklearn.model_selection import train_test_split"
   ]
  },
  {
   "cell_type": "code",
   "execution_count": 6,
   "id": "a22e3866",
   "metadata": {
    "execution": {
     "iopub.execute_input": "2024-01-13T20:00:59.111544Z",
     "iopub.status.busy": "2024-01-13T20:00:59.111012Z",
     "iopub.status.idle": "2024-01-13T20:01:00.270352Z",
     "shell.execute_reply": "2024-01-13T20:01:00.268937Z"
    },
    "papermill": {
     "duration": 1.17599,
     "end_time": "2024-01-13T20:01:00.273072",
     "exception": false,
     "start_time": "2024-01-13T20:00:59.097082",
     "status": "completed"
    },
    "tags": []
   },
   "outputs": [],
   "source": [
    "# create train_test\n",
    "\n",
    "X_train_val, X_test = train_test_split(fraud_df, test_size=0.1, random_state=42)"
   ]
  },
  {
   "cell_type": "markdown",
   "id": "cc8488e1",
   "metadata": {
    "papermill": {
     "duration": 0.011421,
     "end_time": "2024-01-13T20:01:00.297142",
     "exception": false,
     "start_time": "2024-01-13T20:01:00.285721",
     "status": "completed"
    },
    "tags": []
   },
   "source": [
    "## Data Inspection"
   ]
  },
  {
   "cell_type": "code",
   "execution_count": 7,
   "id": "27671f5f",
   "metadata": {
    "execution": {
     "iopub.execute_input": "2024-01-13T20:01:00.323291Z",
     "iopub.status.busy": "2024-01-13T20:01:00.321723Z",
     "iopub.status.idle": "2024-01-13T20:01:00.707780Z",
     "shell.execute_reply": "2024-01-13T20:01:00.706187Z"
    },
    "papermill": {
     "duration": 0.401369,
     "end_time": "2024-01-13T20:01:00.710118",
     "exception": false,
     "start_time": "2024-01-13T20:01:00.308749",
     "status": "completed"
    },
    "tags": []
   },
   "outputs": [
    {
     "data": {
      "text/plain": [
       "Date              False\n",
       "nameOrig          False\n",
       "amount            False\n",
       "oldbalanceOrg     False\n",
       "newbalanceOrig    False\n",
       "City              False\n",
       "type              False\n",
       "Card Type         False\n",
       "Exp Type          False\n",
       "Gender            False\n",
       "isFraud           False\n",
       "dtype: bool"
      ]
     },
     "execution_count": 7,
     "metadata": {},
     "output_type": "execute_result"
    }
   ],
   "source": [
    "## missing values\n",
    "\n",
    "X_train_val.isna().any()"
   ]
  },
  {
   "cell_type": "code",
   "execution_count": 8,
   "id": "1f40c773",
   "metadata": {
    "execution": {
     "iopub.execute_input": "2024-01-13T20:01:00.821530Z",
     "iopub.status.busy": "2024-01-13T20:01:00.820585Z",
     "iopub.status.idle": "2024-01-13T20:01:02.287571Z",
     "shell.execute_reply": "2024-01-13T20:01:02.286286Z"
    },
    "papermill": {
     "duration": 1.567251,
     "end_time": "2024-01-13T20:01:02.290055",
     "exception": false,
     "start_time": "2024-01-13T20:01:00.722804",
     "status": "completed"
    },
    "tags": []
   },
   "outputs": [
    {
     "data": {
      "text/plain": [
       "False"
      ]
     },
     "execution_count": 8,
     "metadata": {},
     "output_type": "execute_result"
    }
   ],
   "source": [
    "## duplicated rows\n",
    "\n",
    "X_train_val.duplicated().any()"
   ]
  },
  {
   "cell_type": "code",
   "execution_count": 9,
   "id": "31bc7eb5",
   "metadata": {
    "execution": {
     "iopub.execute_input": "2024-01-13T20:01:02.319494Z",
     "iopub.status.busy": "2024-01-13T20:01:02.318048Z",
     "iopub.status.idle": "2024-01-13T20:01:02.727166Z",
     "shell.execute_reply": "2024-01-13T20:01:02.725488Z"
    },
    "papermill": {
     "duration": 0.426559,
     "end_time": "2024-01-13T20:01:02.730037",
     "exception": false,
     "start_time": "2024-01-13T20:01:02.303478",
     "status": "completed"
    },
    "tags": []
   },
   "outputs": [
    {
     "name": "stdout",
     "output_type": "stream",
     "text": [
      "<class 'pandas.core.frame.DataFrame'>\n",
      "Index: 943716 entries, 979635 to 121958\n",
      "Data columns (total 11 columns):\n",
      " #   Column          Non-Null Count   Dtype         \n",
      "---  ------          --------------   -----         \n",
      " 0   Date            943716 non-null  datetime64[ns]\n",
      " 1   nameOrig        943716 non-null  object        \n",
      " 2   amount          943716 non-null  float64       \n",
      " 3   oldbalanceOrg   943716 non-null  float64       \n",
      " 4   newbalanceOrig  943716 non-null  float64       \n",
      " 5   City            943716 non-null  object        \n",
      " 6   type            943716 non-null  object        \n",
      " 7   Card Type       943716 non-null  object        \n",
      " 8   Exp Type        943716 non-null  object        \n",
      " 9   Gender          943716 non-null  object        \n",
      " 10  isFraud         943716 non-null  int64         \n",
      "dtypes: datetime64[ns](1), float64(3), int64(1), object(6)\n",
      "memory usage: 86.4+ MB\n"
     ]
    }
   ],
   "source": [
    "## Information on columns\n",
    "\n",
    "X_train_val.info()"
   ]
  },
  {
   "cell_type": "code",
   "execution_count": 10,
   "id": "919ffecf",
   "metadata": {
    "execution": {
     "iopub.execute_input": "2024-01-13T20:01:02.760511Z",
     "iopub.status.busy": "2024-01-13T20:01:02.759341Z",
     "iopub.status.idle": "2024-01-13T20:01:02.849831Z",
     "shell.execute_reply": "2024-01-13T20:01:02.848634Z"
    },
    "papermill": {
     "duration": 0.108102,
     "end_time": "2024-01-13T20:01:02.852306",
     "exception": false,
     "start_time": "2024-01-13T20:01:02.744204",
     "status": "completed"
    },
    "tags": []
   },
   "outputs": [],
   "source": [
    "#Get numerical and categorical columns for analysis\n",
    "\n",
    "cat_cols = X_train_val.select_dtypes(\"object\").columns.tolist()[1:]\n",
    "num_cols = X_train_val.select_dtypes(include=np.number).columns.tolist()"
   ]
  },
  {
   "cell_type": "code",
   "execution_count": 11,
   "id": "c0ef1241",
   "metadata": {
    "execution": {
     "iopub.execute_input": "2024-01-13T20:01:02.879679Z",
     "iopub.status.busy": "2024-01-13T20:01:02.879193Z",
     "iopub.status.idle": "2024-01-13T20:01:02.887603Z",
     "shell.execute_reply": "2024-01-13T20:01:02.885253Z"
    },
    "papermill": {
     "duration": 0.025732,
     "end_time": "2024-01-13T20:01:02.890721",
     "exception": false,
     "start_time": "2024-01-13T20:01:02.864989",
     "status": "completed"
    },
    "tags": []
   },
   "outputs": [],
   "source": [
    "# print categories in categorical columns\n",
    "\n",
    "def view_cat_cols(df, cols):\n",
    "    for col in cols:\n",
    "        print(\"*************************\")\n",
    "        print(df[col].value_counts(normalize=True))\n",
    "        print(\"*************************\")"
   ]
  },
  {
   "cell_type": "code",
   "execution_count": 12,
   "id": "1758de0e",
   "metadata": {
    "execution": {
     "iopub.execute_input": "2024-01-13T20:01:02.920977Z",
     "iopub.status.busy": "2024-01-13T20:01:02.920163Z",
     "iopub.status.idle": "2024-01-13T20:01:03.198863Z",
     "shell.execute_reply": "2024-01-13T20:01:03.197442Z"
    },
    "papermill": {
     "duration": 0.297043,
     "end_time": "2024-01-13T20:01:03.201240",
     "exception": false,
     "start_time": "2024-01-13T20:01:02.904197",
     "status": "completed"
    },
    "tags": []
   },
   "outputs": [
    {
     "name": "stdout",
     "output_type": "stream",
     "text": [
      "*************************\n",
      "City\n",
      "Bengaluru, India          0.137102\n",
      "Ahmedabad, India          0.134784\n",
      "Greater Mumbai, India     0.134722\n",
      "Delhi, India              0.134339\n",
      "Hyderabad, India          0.029883\n",
      "                            ...   \n",
      "Fazilka, India            0.000036\n",
      "Bagaha, India             0.000036\n",
      "Hugli-Chinsurah, India    0.000036\n",
      "Godhra, India             0.000035\n",
      "Varanasi, India           0.000033\n",
      "Name: proportion, Length: 986, dtype: float64\n",
      "*************************\n",
      "*************************\n",
      "type\n",
      "CASH_OUT    0.356303\n",
      "PAYMENT     0.337705\n",
      "CASH_IN     0.216306\n",
      "TRANSFER    0.082779\n",
      "DEBIT       0.006907\n",
      "Name: proportion, dtype: float64\n",
      "*************************\n",
      "*************************\n",
      "Card Type\n",
      "Silver       0.262785\n",
      "Signature    0.247563\n",
      "Platinum     0.245313\n",
      "Gold         0.244187\n",
      "Classic      0.000076\n",
      "Mass         0.000076\n",
      "Name: proportion, dtype: float64\n",
      "*************************\n",
      "*************************\n",
      "Exp Type\n",
      "Food              0.209876\n",
      "Fuel              0.201923\n",
      "Bills             0.195243\n",
      "Entertainment     0.182368\n",
      "Grocery           0.182285\n",
      "Travel            0.028191\n",
      "Home              0.000039\n",
      "Health_Fitness    0.000038\n",
      "Personal_Care     0.000037\n",
      "Name: proportion, dtype: float64\n",
      "*************************\n",
      "*************************\n",
      "Gender\n",
      "F    0.525367\n",
      "M    0.474633\n",
      "Name: proportion, dtype: float64\n",
      "*************************\n"
     ]
    }
   ],
   "source": [
    "view_cat_cols(X_train_val, cat_cols)"
   ]
  },
  {
   "cell_type": "code",
   "execution_count": 13,
   "id": "426a8685",
   "metadata": {
    "execution": {
     "iopub.execute_input": "2024-01-13T20:01:03.229965Z",
     "iopub.status.busy": "2024-01-13T20:01:03.229549Z",
     "iopub.status.idle": "2024-01-13T20:01:03.716449Z",
     "shell.execute_reply": "2024-01-13T20:01:03.714355Z"
    },
    "papermill": {
     "duration": 0.504216,
     "end_time": "2024-01-13T20:01:03.719301",
     "exception": false,
     "start_time": "2024-01-13T20:01:03.215085",
     "status": "completed"
    },
    "tags": []
   },
   "outputs": [],
   "source": [
    "## Create new column\n",
    "X_train_val[\"location\"] = X_train_val[\"City\"].apply(lambda X: X.split(\" \")[0].split(\",\")[0])"
   ]
  },
  {
   "cell_type": "code",
   "execution_count": 14,
   "id": "9bd930dd",
   "metadata": {
    "execution": {
     "iopub.execute_input": "2024-01-13T20:01:03.749765Z",
     "iopub.status.busy": "2024-01-13T20:01:03.749277Z",
     "iopub.status.idle": "2024-01-13T20:01:04.091828Z",
     "shell.execute_reply": "2024-01-13T20:01:04.090579Z"
    },
    "papermill": {
     "duration": 0.360224,
     "end_time": "2024-01-13T20:01:04.094066",
     "exception": false,
     "start_time": "2024-01-13T20:01:03.733842",
     "status": "completed"
    },
    "tags": []
   },
   "outputs": [
    {
     "name": "stdout",
     "output_type": "stream",
     "text": [
      "*************************\n",
      "City\n",
      "Bengaluru, India          0.137102\n",
      "Ahmedabad, India          0.134784\n",
      "Greater Mumbai, India     0.134722\n",
      "Delhi, India              0.134339\n",
      "Hyderabad, India          0.029883\n",
      "                            ...   \n",
      "Fazilka, India            0.000036\n",
      "Bagaha, India             0.000036\n",
      "Hugli-Chinsurah, India    0.000036\n",
      "Godhra, India             0.000035\n",
      "Varanasi, India           0.000033\n",
      "Name: proportion, Length: 986, dtype: float64\n",
      "*************************\n",
      "*************************\n",
      "type\n",
      "CASH_OUT    0.356303\n",
      "PAYMENT     0.337705\n",
      "CASH_IN     0.216306\n",
      "TRANSFER    0.082779\n",
      "DEBIT       0.006907\n",
      "Name: proportion, dtype: float64\n",
      "*************************\n",
      "*************************\n",
      "Card Type\n",
      "Silver       0.262785\n",
      "Signature    0.247563\n",
      "Platinum     0.245313\n",
      "Gold         0.244187\n",
      "Classic      0.000076\n",
      "Mass         0.000076\n",
      "Name: proportion, dtype: float64\n",
      "*************************\n",
      "*************************\n",
      "Exp Type\n",
      "Food              0.209876\n",
      "Fuel              0.201923\n",
      "Bills             0.195243\n",
      "Entertainment     0.182368\n",
      "Grocery           0.182285\n",
      "Travel            0.028191\n",
      "Home              0.000039\n",
      "Health_Fitness    0.000038\n",
      "Personal_Care     0.000037\n",
      "Name: proportion, dtype: float64\n",
      "*************************\n",
      "*************************\n",
      "Gender\n",
      "F    0.525367\n",
      "M    0.474633\n",
      "Name: proportion, dtype: float64\n",
      "*************************\n",
      "*************************\n",
      "location\n",
      "Bengaluru    0.137102\n",
      "Ahmedabad    0.134784\n",
      "Greater      0.134722\n",
      "Delhi        0.134339\n",
      "Hyderabad    0.029883\n",
      "               ...   \n",
      "Alirajpur    0.000036\n",
      "Fazilka      0.000036\n",
      "Bagaha       0.000036\n",
      "Godhra       0.000035\n",
      "Varanasi     0.000033\n",
      "Name: proportion, Length: 980, dtype: float64\n",
      "*************************\n"
     ]
    }
   ],
   "source": [
    "cat_cols.append(\"location\")\n",
    "view_cat_cols(X_train_val, cat_cols)"
   ]
  },
  {
   "cell_type": "markdown",
   "id": "115cd9df",
   "metadata": {
    "papermill": {
     "duration": 0.015007,
     "end_time": "2024-01-13T20:01:04.122764",
     "exception": false,
     "start_time": "2024-01-13T20:01:04.107757",
     "status": "completed"
    },
    "tags": []
   },
   "source": [
    "- No empty or duplicated rows\n",
    "- Data has been processed and in right format"
   ]
  },
  {
   "cell_type": "markdown",
   "id": "e85a5829",
   "metadata": {
    "papermill": {
     "duration": 0.011953,
     "end_time": "2024-01-13T20:01:04.147612",
     "exception": false,
     "start_time": "2024-01-13T20:01:04.135659",
     "status": "completed"
    },
    "tags": []
   },
   "source": [
    "## EDA"
   ]
  },
  {
   "cell_type": "code",
   "execution_count": 15,
   "id": "1c1df29d",
   "metadata": {
    "execution": {
     "iopub.execute_input": "2024-01-13T20:01:04.173775Z",
     "iopub.status.busy": "2024-01-13T20:01:04.173319Z",
     "iopub.status.idle": "2024-01-13T20:01:05.462588Z",
     "shell.execute_reply": "2024-01-13T20:01:05.461110Z"
    },
    "papermill": {
     "duration": 1.306059,
     "end_time": "2024-01-13T20:01:05.465836",
     "exception": false,
     "start_time": "2024-01-13T20:01:04.159777",
     "status": "completed"
    },
    "tags": []
   },
   "outputs": [],
   "source": [
    "# import chart libraries\n",
    "\n",
    "import matplotlib\n",
    "\n",
    "from matplotlib import pyplot as plt\n",
    "import seaborn as sns\n",
    "import plotly.express as px\n",
    "\n",
    "params = {\n",
    "    'figure.figsize': [10, 6],\n",
    "    'axes.titlesize': 10,\n",
    "    'axes.labelsize': 8\n",
    "}\n",
    "\n",
    "matplotlib.rcParams.update(params)"
   ]
  },
  {
   "cell_type": "code",
   "execution_count": 16,
   "id": "89f99048",
   "metadata": {
    "execution": {
     "iopub.execute_input": "2024-01-13T20:01:05.494512Z",
     "iopub.status.busy": "2024-01-13T20:01:05.493711Z",
     "iopub.status.idle": "2024-01-13T20:01:06.697280Z",
     "shell.execute_reply": "2024-01-13T20:01:06.696250Z"
    },
    "papermill": {
     "duration": 1.221059,
     "end_time": "2024-01-13T20:01:06.700406",
     "exception": false,
     "start_time": "2024-01-13T20:01:05.479347",
     "status": "completed"
    },
    "tags": []
   },
   "outputs": [
    {
     "data": {
      "image/png": "[encoded data removed]",
      "text/plain": [
       "<Figure size 1000x600 with 6 Axes>"
      ]
     },
     "metadata": {},
     "output_type": "display_data"
    }
   ],
   "source": [
    "X_train_val.hist(bins=20)\n",
    "plt.subplots_adjust(hspace=0.5)\n",
    "plt.xticks(rotation=45)\n",
    "plt.show()"
   ]
  },
  {
   "cell_type": "code",
   "execution_count": 17,
   "id": "22c7a94c",
   "metadata": {
    "execution": {
     "iopub.execute_input": "2024-01-13T20:01:06.733687Z",
     "iopub.status.busy": "2024-01-13T20:01:06.731972Z",
     "iopub.status.idle": "2024-01-13T20:01:07.448822Z",
     "shell.execute_reply": "2024-01-13T20:01:07.446734Z"
    },
    "papermill": {
     "duration": 0.735718,
     "end_time": "2024-01-13T20:01:07.451305",
     "exception": false,
     "start_time": "2024-01-13T20:01:06.715587",
     "status": "completed"
    },
    "tags": []
   },
   "outputs": [
    {
     "data": {
      "image/png": "[encoded data removed]",
      "text/plain": [
       "<Figure size 1000x600 with 1 Axes>"
      ]
     },
     "metadata": {},
     "output_type": "display_data"
    }
   ],
   "source": [
    "# distribution of the amount\n",
    "\n",
    "sns.histplot(X_train_val, x=np.log1p(X_train_val[\"amount\"]), bins=20, hue=\"isFraud\")\n",
    "plt.title(\"Distribution of amount\")\n",
    "plt.show()"
   ]
  },
  {
   "cell_type": "markdown",
   "id": "d0f86bf0",
   "metadata": {
    "papermill": {
     "duration": 0.013849,
     "end_time": "2024-01-13T20:01:07.480438",
     "exception": false,
     "start_time": "2024-01-13T20:01:07.466589",
     "status": "completed"
    },
    "tags": []
   },
   "source": [
    "- We transform the highly skewed data using nlog1 to get a more general view on the variable\n",
    "- We use np.log1p as it handles zero values gracefully"
   ]
  },
  {
   "cell_type": "code",
   "execution_count": 18,
   "id": "b79fcbdc",
   "metadata": {
    "execution": {
     "iopub.execute_input": "2024-01-13T20:01:07.511091Z",
     "iopub.status.busy": "2024-01-13T20:01:07.510537Z",
     "iopub.status.idle": "2024-01-13T20:01:07.522513Z",
     "shell.execute_reply": "2024-01-13T20:01:07.521135Z"
    },
    "papermill": {
     "duration": 0.029912,
     "end_time": "2024-01-13T20:01:07.524861",
     "exception": false,
     "start_time": "2024-01-13T20:01:07.494949",
     "status": "completed"
    },
    "tags": []
   },
   "outputs": [],
   "source": [
    "percentage_diff = abs((X_train_val[\"newbalanceOrig\"] - X_train_val[\"oldbalanceOrg\"]) / X_train_val[\"oldbalanceOrg\"]) * 100"
   ]
  },
  {
   "cell_type": "code",
   "execution_count": 19,
   "id": "7a81ac79",
   "metadata": {
    "execution": {
     "iopub.execute_input": "2024-01-13T20:01:07.554587Z",
     "iopub.status.busy": "2024-01-13T20:01:07.554081Z",
     "iopub.status.idle": "2024-01-13T20:01:08.544196Z",
     "shell.execute_reply": "2024-01-13T20:01:08.543252Z"
    },
    "papermill": {
     "duration": 1.007307,
     "end_time": "2024-01-13T20:01:08.546118",
     "exception": false,
     "start_time": "2024-01-13T20:01:07.538811",
     "status": "completed"
    },
    "tags": []
   },
   "outputs": [
    {
     "data": {
      "image/png": "[encoded data removed]",
      "text/plain": [
       "<Figure size 1000x600 with 1 Axes>"
      ]
     },
     "metadata": {},
     "output_type": "display_data"
    }
   ],
   "source": [
    "sns.histplot(X_train_val, x=percentage_diff, hue=\"isFraud\", common_norm=True)\n",
    "plt.title(\"Distribution of %difference in Balance\")\n",
    "plt.show()"
   ]
  },
  {
   "cell_type": "code",
   "execution_count": 20,
   "id": "1ff3fff7",
   "metadata": {
    "execution": {
     "iopub.execute_input": "2024-01-13T20:01:08.580245Z",
     "iopub.status.busy": "2024-01-13T20:01:08.579578Z",
     "iopub.status.idle": "2024-01-13T20:01:09.051293Z",
     "shell.execute_reply": "2024-01-13T20:01:09.050169Z"
    },
    "papermill": {
     "duration": 0.492939,
     "end_time": "2024-01-13T20:01:09.053649",
     "exception": false,
     "start_time": "2024-01-13T20:01:08.560710",
     "status": "completed"
    },
    "tags": []
   },
   "outputs": [
    {
     "data": {
      "image/png": "[encoded data removed]",
      "text/plain": [
       "<Figure size 1000x600 with 1 Axes>"
      ]
     },
     "metadata": {},
     "output_type": "display_data"
    }
   ],
   "source": [
    "#boxplot of %diff in balance\n",
    "\n",
    "sns.boxplot(X_train_val, x=\"isFraud\", y=percentage_diff)\n",
    "plt.title(\"Percentage Diff by isFraud\")\n",
    "plt.show()"
   ]
  },
  {
   "cell_type": "markdown",
   "id": "f4c35337",
   "metadata": {
    "papermill": {
     "duration": 0.014513,
     "end_time": "2024-01-13T20:01:09.083877",
     "exception": false,
     "start_time": "2024-01-13T20:01:09.069364",
     "status": "completed"
    },
    "tags": []
   },
   "source": [
    "- Balance Difference that are higher tend to be classified as fraudulent\n",
    "- 40% change seems to the average threshold for Fraudulent transactions"
   ]
  },
  {
   "cell_type": "code",
   "execution_count": 21,
   "id": "d237d1bb",
   "metadata": {
    "execution": {
     "iopub.execute_input": "2024-01-13T20:01:09.115475Z",
     "iopub.status.busy": "2024-01-13T20:01:09.115060Z",
     "iopub.status.idle": "2024-01-13T20:01:10.390228Z",
     "shell.execute_reply": "2024-01-13T20:01:10.389235Z"
    },
    "papermill": {
     "duration": 1.294023,
     "end_time": "2024-01-13T20:01:10.392589",
     "exception": false,
     "start_time": "2024-01-13T20:01:09.098566",
     "status": "completed"
    },
    "tags": []
   },
   "outputs": [
    {
     "data": {
      "text/plain": [
       "<Axes: xlabel='type'>"
      ]
     },
     "execution_count": 21,
     "metadata": {},
     "output_type": "execute_result"
    },
    {
     "data": {
      "image/png": "[encoded data removed]",
      "text/plain": [
       "<Figure size 1000x600 with 1 Axes>"
      ]
     },
     "metadata": {},
     "output_type": "display_data"
    }
   ],
   "source": [
    "sns.boxplot(X_train_val, x=\"type\", y=percentage_diff, hue=\"isFraud\")"
   ]
  },
  {
   "cell_type": "markdown",
   "id": "ae90f993",
   "metadata": {
    "papermill": {
     "duration": 0.015161,
     "end_time": "2024-01-13T20:01:10.423112",
     "exception": false,
     "start_time": "2024-01-13T20:01:10.407951",
     "status": "completed"
    },
    "tags": []
   },
   "source": [
    "- Transaction with type \"CASH-IN\" and high difference ratio is likely to be fraudulent as show depicted above\n",
    "- We can Create a column that classifies CASH-IN with high %diffence and others "
   ]
  },
  {
   "cell_type": "code",
   "execution_count": 22,
   "id": "2a08b33f",
   "metadata": {
    "execution": {
     "iopub.execute_input": "2024-01-13T20:01:10.455863Z",
     "iopub.status.busy": "2024-01-13T20:01:10.454392Z",
     "iopub.status.idle": "2024-01-13T20:01:10.779060Z",
     "shell.execute_reply": "2024-01-13T20:01:10.776479Z"
    },
    "papermill": {
     "duration": 0.344313,
     "end_time": "2024-01-13T20:01:10.782430",
     "exception": false,
     "start_time": "2024-01-13T20:01:10.438117",
     "status": "completed"
    },
    "tags": []
   },
   "outputs": [
    {
     "data": {
      "image/png": "[encoded data removed]",
      "text/plain": [
       "<Figure size 800x600 with 1 Axes>"
      ]
     },
     "metadata": {},
     "output_type": "display_data"
    }
   ],
   "source": [
    "# Investigate Contigency Tables of Columns\n",
    "\n",
    "freq = pd.crosstab(X_train_val[\"type\"], X_train_val[\"isFraud\"])\n",
    "proportions = freq/len(X_train_val)\n",
    "\n",
    "proportions.plot(kind='bar', stacked=True, figsize=(8, 6))\n",
    "plt.show()"
   ]
  },
  {
   "cell_type": "markdown",
   "id": "935a3c2c",
   "metadata": {
    "papermill": {
     "duration": 0.015202,
     "end_time": "2024-01-13T20:01:10.813317",
     "exception": false,
     "start_time": "2024-01-13T20:01:10.798115",
     "status": "completed"
    },
    "tags": []
   },
   "source": [
    "- Seems \"Transfer\" Transactions are more likely to be Fraudulent\n",
    "- We can investigate further"
   ]
  },
  {
   "cell_type": "code",
   "execution_count": 23,
   "id": "eea440b6",
   "metadata": {
    "execution": {
     "iopub.execute_input": "2024-01-13T20:01:10.846922Z",
     "iopub.status.busy": "2024-01-13T20:01:10.845158Z",
     "iopub.status.idle": "2024-01-13T20:01:11.989283Z",
     "shell.execute_reply": "2024-01-13T20:01:11.987819Z"
    },
    "papermill": {
     "duration": 1.162938,
     "end_time": "2024-01-13T20:01:11.991363",
     "exception": false,
     "start_time": "2024-01-13T20:01:10.828425",
     "status": "completed"
    },
    "tags": []
   },
   "outputs": [
    {
     "data": {
      "image/png": "[encoded data removed]",
      "text/plain": [
       "<Figure size 1000x600 with 1 Axes>"
      ]
     },
     "metadata": {},
     "output_type": "display_data"
    }
   ],
   "source": [
    "sns.boxplot(X_train_val, x=\"Card Type\", y=percentage_diff, hue=\"isFraud\")\n",
    "plt.title(\"Card Type VS Percentage Diff (By isFraud)\")\n",
    "plt.show()"
   ]
  },
  {
   "cell_type": "markdown",
   "id": "943a8ae9",
   "metadata": {
    "papermill": {
     "duration": 0.015686,
     "end_time": "2024-01-13T20:01:12.023928",
     "exception": false,
     "start_time": "2024-01-13T20:01:12.008242",
     "status": "completed"
    },
    "tags": []
   },
   "source": [
    "- We can see that when the Card type is \"Mass\" and the percentage difference in balance is high, it's most likely to be a fraudulent transaction\n",
    "- Create a categorical column for this as well"
   ]
  },
  {
   "cell_type": "code",
   "execution_count": 24,
   "id": "c827c06a",
   "metadata": {
    "execution": {
     "iopub.execute_input": "2024-01-13T20:01:12.061025Z",
     "iopub.status.busy": "2024-01-13T20:01:12.060544Z",
     "iopub.status.idle": "2024-01-13T20:01:12.377172Z",
     "shell.execute_reply": "2024-01-13T20:01:12.375622Z"
    },
    "papermill": {
     "duration": 0.337751,
     "end_time": "2024-01-13T20:01:12.379493",
     "exception": false,
     "start_time": "2024-01-13T20:01:12.041742",
     "status": "completed"
    },
    "tags": []
   },
   "outputs": [
    {
     "data": {
      "image/png": "[encoded data removed]",
      "text/plain": [
       "<Figure size 800x600 with 1 Axes>"
      ]
     },
     "metadata": {},
     "output_type": "display_data"
    }
   ],
   "source": [
    "# Investigate Contigency Tables of Columns\n",
    "\n",
    "freq = pd.crosstab(X_train_val[\"Card Type\"], X_train_val[\"isFraud\"])\n",
    "proportions = freq/len(X_train_val)\n",
    "\n",
    "proportions.plot(kind='bar', stacked=True, figsize=(8, 6))\n",
    "plt.show()"
   ]
  },
  {
   "cell_type": "code",
   "execution_count": 25,
   "id": "c683d4a0",
   "metadata": {
    "execution": {
     "iopub.execute_input": "2024-01-13T20:01:12.414049Z",
     "iopub.status.busy": "2024-01-13T20:01:12.413655Z",
     "iopub.status.idle": "2024-01-13T20:01:13.510739Z",
     "shell.execute_reply": "2024-01-13T20:01:13.507202Z"
    },
    "papermill": {
     "duration": 1.118812,
     "end_time": "2024-01-13T20:01:13.514762",
     "exception": false,
     "start_time": "2024-01-13T20:01:12.395950",
     "status": "completed"
    },
    "tags": []
   },
   "outputs": [
    {
     "data": {
      "image/png": "[encoded data removed]",
      "text/plain": [
       "<Figure size 1000x600 with 1 Axes>"
      ]
     },
     "metadata": {},
     "output_type": "display_data"
    }
   ],
   "source": [
    "# visulization for gender analysis\n",
    "sns.boxplot(X_train_val, x=\"Exp Type\", y=percentage_diff, hue=\"isFraud\")\n",
    "plt.title(\"Expenses Type VS percentage_diff (By isFraud)\")\n",
    "plt.show()"
   ]
  },
  {
   "cell_type": "code",
   "execution_count": 26,
   "id": "fbf33087",
   "metadata": {
    "execution": {
     "iopub.execute_input": "2024-01-13T20:01:13.555940Z",
     "iopub.status.busy": "2024-01-13T20:01:13.554028Z",
     "iopub.status.idle": "2024-01-13T20:01:14.659207Z",
     "shell.execute_reply": "2024-01-13T20:01:14.657820Z"
    },
    "papermill": {
     "duration": 1.128292,
     "end_time": "2024-01-13T20:01:14.661534",
     "exception": false,
     "start_time": "2024-01-13T20:01:13.533242",
     "status": "completed"
    },
    "tags": []
   },
   "outputs": [
    {
     "data": {
      "image/png": "[encoded data removed]",
      "text/plain": [
       "<Figure size 1000x600 with 1 Axes>"
      ]
     },
     "metadata": {},
     "output_type": "display_data"
    }
   ],
   "source": [
    "# visulization for gender analysis\n",
    "sns.boxplot(X_train_val, x=\"Gender\", y=percentage_diff, hue=\"isFraud\")\n",
    "plt.title(\"Gender VS percentage_diff (By isFraud)\")\n",
    "plt.show()"
   ]
  },
  {
   "cell_type": "code",
   "execution_count": 27,
   "id": "4f231849",
   "metadata": {
    "execution": {
     "iopub.execute_input": "2024-01-13T20:01:14.697816Z",
     "iopub.status.busy": "2024-01-13T20:01:14.697347Z",
     "iopub.status.idle": "2024-01-13T20:01:14.967114Z",
     "shell.execute_reply": "2024-01-13T20:01:14.965526Z"
    },
    "papermill": {
     "duration": 0.291302,
     "end_time": "2024-01-13T20:01:14.969532",
     "exception": false,
     "start_time": "2024-01-13T20:01:14.678230",
     "status": "completed"
    },
    "tags": []
   },
   "outputs": [
    {
     "data": {
      "image/png": "[encoded data removed]",
      "text/plain": [
       "<Figure size 800x600 with 1 Axes>"
      ]
     },
     "metadata": {},
     "output_type": "display_data"
    }
   ],
   "source": [
    "freq = pd.crosstab(X_train_val[\"Gender\"], X_train_val[\"isFraud\"])\n",
    "proportions = freq/len(X_train_val)\n",
    "\n",
    "proportions.plot(kind='bar', stacked=True, figsize=(8, 6))\n",
    "plt.show()"
   ]
  },
  {
   "cell_type": "markdown",
   "id": "2681324e",
   "metadata": {
    "papermill": {
     "duration": 0.017938,
     "end_time": "2024-01-13T20:01:15.004249",
     "exception": false,
     "start_time": "2024-01-13T20:01:14.986311",
     "status": "completed"
    },
    "tags": []
   },
   "source": [
    "- There are no correlations between Gender and isFraud"
   ]
  },
  {
   "cell_type": "code",
   "execution_count": 28,
   "id": "5dad0346",
   "metadata": {
    "execution": {
     "iopub.execute_input": "2024-01-13T20:01:15.041262Z",
     "iopub.status.busy": "2024-01-13T20:01:15.040863Z",
     "iopub.status.idle": "2024-01-13T20:01:15.347679Z",
     "shell.execute_reply": "2024-01-13T20:01:15.346089Z"
    },
    "papermill": {
     "duration": 0.327408,
     "end_time": "2024-01-13T20:01:15.349923",
     "exception": false,
     "start_time": "2024-01-13T20:01:15.022515",
     "status": "completed"
    },
    "tags": []
   },
   "outputs": [
    {
     "data": {
      "image/png": "[encoded data removed]",
      "text/plain": [
       "<Figure size 1000x600 with 2 Axes>"
      ]
     },
     "metadata": {},
     "output_type": "display_data"
    }
   ],
   "source": [
    "## Check the correlation Matrix\n",
    "\n",
    "correlation = X_train_val[num_cols].corr()\n",
    "\n",
    "sns.heatmap(correlation, annot=True, cmap='coolwarm', fmt=\".2f\", linewidths=0.5)\n",
    "plt.title(\"Correlation Matrix\")\n",
    "plt.show()"
   ]
  },
  {
   "cell_type": "markdown",
   "id": "4f1aef17",
   "metadata": {
    "papermill": {
     "duration": 0.020244,
     "end_time": "2024-01-13T20:01:15.393398",
     "exception": false,
     "start_time": "2024-01-13T20:01:15.373154",
     "status": "completed"
    },
    "tags": []
   },
   "source": [
    "### Key Findings:\n",
    "- Transcations with amount equal zero (0) are unlikely to be fraudulent\n",
    "- Using a newly created variable, we calculated the percentage diff between the new balance and the old balance and this led to some breakthrough in our analysis\n",
    "- Discovered that a high percentage difference in the balance is likely to be a fraudulent transaction\n",
    "- Usually approximately 40% difference can be used as a threshold\n",
    "- Transactiuons with type \"CASH-IN\" and high difference ratio is likely to be fraudulent\n",
    "- Transfer transactions are likely to be fraudulent while payment and debit transactions have no fraudulent tendencies\n",
    "- When a card type is mass and has a high % difference, it is likely to be a fraudulent transaction"
   ]
  },
  {
   "cell_type": "markdown",
   "id": "543e594c",
   "metadata": {
    "papermill": {
     "duration": 0.015765,
     "end_time": "2024-01-13T20:01:15.427894",
     "exception": false,
     "start_time": "2024-01-13T20:01:15.412129",
     "status": "completed"
    },
    "tags": []
   },
   "source": [
    "### Next Steps:\n",
    "- **Feature Engineering:** Create Extra features based on the analysis done. E.G, create a categorical column that seperates the \"Mass\" card type with high difference ratio from the rest. e.t.c"
   ]
  },
  {
   "cell_type": "markdown",
   "id": "d3529026",
   "metadata": {
    "papermill": {
     "duration": 0.015305,
     "end_time": "2024-01-13T20:01:15.458911",
     "exception": false,
     "start_time": "2024-01-13T20:01:15.443606",
     "status": "completed"
    },
    "tags": []
   },
   "source": [
    "### Split Train/Val Data"
   ]
  },
  {
   "cell_type": "code",
   "execution_count": 29,
   "id": "99165162",
   "metadata": {
    "execution": {
     "iopub.execute_input": "2024-01-13T20:01:15.494183Z",
     "iopub.status.busy": "2024-01-13T20:01:15.493254Z",
     "iopub.status.idle": "2024-01-13T20:01:16.677765Z",
     "shell.execute_reply": "2024-01-13T20:01:16.676431Z"
    },
    "papermill": {
     "duration": 1.205452,
     "end_time": "2024-01-13T20:01:16.680465",
     "exception": false,
     "start_time": "2024-01-13T20:01:15.475013",
     "status": "completed"
    },
    "tags": []
   },
   "outputs": [],
   "source": [
    "X_train, X_val = train_test_split(X_train_val, test_size=0.2, random_state=42)"
   ]
  },
  {
   "cell_type": "code",
   "execution_count": 30,
   "id": "8010487c",
   "metadata": {
    "execution": {
     "iopub.execute_input": "2024-01-13T20:01:16.716339Z",
     "iopub.status.busy": "2024-01-13T20:01:16.715658Z",
     "iopub.status.idle": "2024-01-13T20:01:16.868413Z",
     "shell.execute_reply": "2024-01-13T20:01:16.867368Z"
    },
    "papermill": {
     "duration": 0.173856,
     "end_time": "2024-01-13T20:01:16.871470",
     "exception": false,
     "start_time": "2024-01-13T20:01:16.697614",
     "status": "completed"
    },
    "tags": []
   },
   "outputs": [],
   "source": [
    "X_train_features = X_train.drop(columns=[\"isFraud\"])\n",
    "y_train = X_train[\"isFraud\"]\n",
    "X_val_features = X_val.drop(columns=[\"isFraud\"])\n",
    "y_val = X_val[\"isFraud\"]"
   ]
  },
  {
   "cell_type": "markdown",
   "id": "719d4899",
   "metadata": {
    "papermill": {
     "duration": 0.016385,
     "end_time": "2024-01-13T20:01:16.904897",
     "exception": false,
     "start_time": "2024-01-13T20:01:16.888512",
     "status": "completed"
    },
    "tags": []
   },
   "source": [
    "### Data Preprocessing"
   ]
  },
  {
   "cell_type": "code",
   "execution_count": 31,
   "id": "ad80e9f2",
   "metadata": {
    "execution": {
     "iopub.execute_input": "2024-01-13T20:01:16.940009Z",
     "iopub.status.busy": "2024-01-13T20:01:16.939566Z",
     "iopub.status.idle": "2024-01-13T20:01:17.162765Z",
     "shell.execute_reply": "2024-01-13T20:01:17.160918Z"
    },
    "papermill": {
     "duration": 0.244516,
     "end_time": "2024-01-13T20:01:17.165993",
     "exception": false,
     "start_time": "2024-01-13T20:01:16.921477",
     "status": "completed"
    },
    "tags": []
   },
   "outputs": [],
   "source": [
    "from sklearn.pipeline import Pipeline\n",
    "from sklearn.preprocessing import StandardScaler, OneHotEncoder\n",
    "from sklearn.compose import ColumnTransformer\n",
    "\n",
    "from sklearn.experimental import enable_iterative_imputer\n",
    "from sklearn.impute import IterativeImputer\n",
    "\n",
    "## import libraries for custom transformers\n",
    "from sklearn.base import BaseEstimator, TransformerMixin"
   ]
  },
  {
   "cell_type": "code",
   "execution_count": 32,
   "id": "b849bf70",
   "metadata": {
    "execution": {
     "iopub.execute_input": "2024-01-13T20:01:17.207496Z",
     "iopub.status.busy": "2024-01-13T20:01:17.205275Z",
     "iopub.status.idle": "2024-01-13T20:01:17.213066Z",
     "shell.execute_reply": "2024-01-13T20:01:17.211598Z"
    },
    "papermill": {
     "duration": 0.029704,
     "end_time": "2024-01-13T20:01:17.215406",
     "exception": false,
     "start_time": "2024-01-13T20:01:17.185702",
     "status": "completed"
    },
    "tags": []
   },
   "outputs": [],
   "source": [
    "## Feature Engineering Custom Transformer to transform feature (amount) to log\n",
    "class CustomChangeLog(BaseEstimator, TransformerMixin):\n",
    "    def __init__(self):\n",
    "        pass\n",
    "    def fit(self, X, y=None):\n",
    "        return self\n",
    "    def transform(self, X):\n",
    "        X[\"amount\"] = np.log1p(X[\"amount\"])\n",
    "        return X"
   ]
  },
  {
   "cell_type": "code",
   "execution_count": 33,
   "id": "2ceb54d3",
   "metadata": {
    "execution": {
     "iopub.execute_input": "2024-01-13T20:01:17.254081Z",
     "iopub.status.busy": "2024-01-13T20:01:17.252245Z",
     "iopub.status.idle": "2024-01-13T20:01:17.264073Z",
     "shell.execute_reply": "2024-01-13T20:01:17.262359Z"
    },
    "papermill": {
     "duration": 0.034552,
     "end_time": "2024-01-13T20:01:17.267583",
     "exception": false,
     "start_time": "2024-01-13T20:01:17.233031",
     "status": "completed"
    },
    "tags": []
   },
   "outputs": [],
   "source": [
    "## Add custom columns transformer\n",
    "\n",
    "class CustomColumnsAdd(BaseEstimator, TransformerMixin):\n",
    "    def __init__(self, create_mass_cat=False, create_type_class=False, create_health_class=False):\n",
    "        self.create_mass_cat = create_mass_cat\n",
    "        self.create_type_class = create_type_class\n",
    "        self.create_health_class = create_health_class\n",
    "        \n",
    "    def fit(self, X, y=None):\n",
    "        return self\n",
    "    def transform(self, X):\n",
    "        X[\"perc_diff\"] = abs((X_train_val[\"newbalanceOrig\"] - X_train_val[\"oldbalanceOrg\"]) / X_train_val[\"oldbalanceOrg\"]) * 100\n",
    "        X[\"perc_diff\"].fillna(0, inplace=True)\n",
    "        if self.create_mass_cat:\n",
    "            X[\"m_class\"] = X.apply(lambda X: \"A\" if X[\"Card Type\"] == \"Mass\" and X[\"perc_diff\"] > 35 else \"B\", axis=1)\n",
    "        if self.create_type_class:\n",
    "            X[\"type_class\"] = X.apply(lambda X: \"A\" if X[\"type\"] == \"CASH_IN\" and X[\"perc_diff\"] > 40 else \"B\", axis=1)\n",
    "        if self.create_health_class:\n",
    "            X[\"health_class\"] = X.apply(lambda X: \"A\" if X[\"Exp Type\"] == \"Health_Fitness\" and X[\"perc_diff\"] > 25 else \"B\", axis=1)\n",
    "        \n",
    "        return X"
   ]
  },
  {
   "cell_type": "code",
   "execution_count": 34,
   "id": "2ec9d9e4",
   "metadata": {
    "execution": {
     "iopub.execute_input": "2024-01-13T20:01:17.304106Z",
     "iopub.status.busy": "2024-01-13T20:01:17.303550Z",
     "iopub.status.idle": "2024-01-13T20:01:17.311440Z",
     "shell.execute_reply": "2024-01-13T20:01:17.309517Z"
    },
    "papermill": {
     "duration": 0.029213,
     "end_time": "2024-01-13T20:01:17.314342",
     "exception": false,
     "start_time": "2024-01-13T20:01:17.285129",
     "status": "completed"
    },
    "tags": []
   },
   "outputs": [],
   "source": [
    "# create Preprocessing Pipelines\n",
    "\n",
    "numeric_transformer = Pipeline([\n",
    "    #(\"impute\", IterativeImputer(max_iter=10, random_state=0)),\n",
    "    (\"num\", StandardScaler())\n",
    "])\n",
    "\n",
    "categorical_transformer = Pipeline([\n",
    "    (\"onehot\", OneHotEncoder(sparse=False))\n",
    "])"
   ]
  },
  {
   "cell_type": "code",
   "execution_count": 35,
   "id": "022d494c",
   "metadata": {
    "execution": {
     "iopub.execute_input": "2024-01-13T20:01:17.350951Z",
     "iopub.status.busy": "2024-01-13T20:01:17.350108Z",
     "iopub.status.idle": "2024-01-13T20:01:17.356594Z",
     "shell.execute_reply": "2024-01-13T20:01:17.355390Z"
    },
    "papermill": {
     "duration": 0.027027,
     "end_time": "2024-01-13T20:01:17.358765",
     "exception": false,
     "start_time": "2024-01-13T20:01:17.331738",
     "status": "completed"
    },
    "tags": []
   },
   "outputs": [],
   "source": [
    "num_cols = [\"amount\",\"perc_diff\"]\n",
    "cat_cols = [\"type\", \"Exp Type\", \"m_class\", \"type_class\", \"health_class\"]\n",
    "\n",
    "features = num_cols + cat_cols"
   ]
  },
  {
   "cell_type": "code",
   "execution_count": 36,
   "id": "ca706fab",
   "metadata": {
    "execution": {
     "iopub.execute_input": "2024-01-13T20:01:17.395930Z",
     "iopub.status.busy": "2024-01-13T20:01:17.394074Z",
     "iopub.status.idle": "2024-01-13T20:01:17.401329Z",
     "shell.execute_reply": "2024-01-13T20:01:17.400552Z"
    },
    "papermill": {
     "duration": 0.027454,
     "end_time": "2024-01-13T20:01:17.403455",
     "exception": false,
     "start_time": "2024-01-13T20:01:17.376001",
     "status": "completed"
    },
    "tags": []
   },
   "outputs": [],
   "source": [
    "preprocessor = ColumnTransformer(\n",
    "    transformers=[\n",
    "       (\"num_transformer\", numeric_transformer, num_cols),\n",
    "        (\"cat_transformer\", categorical_transformer, cat_cols),\n",
    "    ]\n",
    ")\n",
    "\n",
    "# create pipeline\n",
    "pipeline = Pipeline(steps=[\n",
    "    (\"log\", CustomChangeLog()),\n",
    "    (\"add_cols\", CustomColumnsAdd(create_mass_cat=True, create_type_class=True, create_health_class=True)),\n",
    "    (\"preprocessor\", preprocessor)\n",
    "])"
   ]
  },
  {
   "cell_type": "code",
   "execution_count": 37,
   "id": "4a9461a5",
   "metadata": {
    "execution": {
     "iopub.execute_input": "2024-01-13T20:01:17.442308Z",
     "iopub.status.busy": "2024-01-13T20:01:17.441931Z",
     "iopub.status.idle": "2024-01-13T20:01:37.591718Z",
     "shell.execute_reply": "2024-01-13T20:01:37.589720Z"
    },
    "papermill": {
     "duration": 20.17202,
     "end_time": "2024-01-13T20:01:37.594564",
     "exception": false,
     "start_time": "2024-01-13T20:01:17.422544",
     "status": "completed"
    },
    "tags": []
   },
   "outputs": [
    {
     "name": "stderr",
     "output_type": "stream",
     "text": [
      "/opt/conda/lib/python3.10/site-packages/sklearn/preprocessing/_encoders.py:868: FutureWarning: `sparse` was renamed to `sparse_output` in version 1.2 and will be removed in 1.4. `sparse_output` is ignored unless you leave `sparse` to its default value.\n",
      "  warnings.warn(\n"
     ]
    }
   ],
   "source": [
    "transformed_data = pipeline.fit_transform(X_train_features)"
   ]
  },
  {
   "cell_type": "code",
   "execution_count": 38,
   "id": "d0299ab5",
   "metadata": {
    "execution": {
     "iopub.execute_input": "2024-01-13T20:01:37.631160Z",
     "iopub.status.busy": "2024-01-13T20:01:37.630759Z",
     "iopub.status.idle": "2024-01-13T20:01:37.638476Z",
     "shell.execute_reply": "2024-01-13T20:01:37.637135Z"
    },
    "papermill": {
     "duration": 0.028338,
     "end_time": "2024-01-13T20:01:37.640655",
     "exception": false,
     "start_time": "2024-01-13T20:01:37.612317",
     "status": "completed"
    },
    "tags": []
   },
   "outputs": [
    {
     "data": {
      "text/plain": [
       "array([[-1.93693485, -0.93497487,  0.        , ...,  1.        ,\n",
       "         0.        ,  1.        ],\n",
       "       [ 0.00233302, -0.82091728,  0.        , ...,  1.        ,\n",
       "         0.        ,  1.        ],\n",
       "       [-1.93693485, -0.93497487,  0.        , ...,  1.        ,\n",
       "         0.        ,  1.        ],\n",
       "       ...,\n",
       "       [-1.93693485, -0.93497487,  0.        , ...,  1.        ,\n",
       "         0.        ,  1.        ],\n",
       "       [ 1.03701581,  1.84556651,  1.        , ...,  0.        ,\n",
       "         0.        ,  1.        ],\n",
       "       [ 0.0819385 , -0.93366281,  1.        , ...,  1.        ,\n",
       "         0.        ,  1.        ]])"
      ]
     },
     "execution_count": 38,
     "metadata": {},
     "output_type": "execute_result"
    }
   ],
   "source": [
    "transformed_data"
   ]
  },
  {
   "cell_type": "markdown",
   "id": "ab72206b",
   "metadata": {
    "papermill": {
     "duration": 0.016574,
     "end_time": "2024-01-13T20:01:37.674311",
     "exception": false,
     "start_time": "2024-01-13T20:01:37.657737",
     "status": "completed"
    },
    "tags": []
   },
   "source": [
    "## Model"
   ]
  },
  {
   "cell_type": "code",
   "execution_count": 39,
   "id": "d5a5513b",
   "metadata": {
    "execution": {
     "iopub.execute_input": "2024-01-13T20:01:37.710500Z",
     "iopub.status.busy": "2024-01-13T20:01:37.709891Z",
     "iopub.status.idle": "2024-01-13T20:01:37.714080Z",
     "shell.execute_reply": "2024-01-13T20:01:37.713347Z"
    },
    "papermill": {
     "duration": 0.024718,
     "end_time": "2024-01-13T20:01:37.715964",
     "exception": false,
     "start_time": "2024-01-13T20:01:37.691246",
     "status": "completed"
    },
    "tags": []
   },
   "outputs": [],
   "source": [
    "from sklearn.linear_model import SGDClassifier"
   ]
  },
  {
   "cell_type": "code",
   "execution_count": 40,
   "id": "7099f215",
   "metadata": {
    "execution": {
     "iopub.execute_input": "2024-01-13T20:01:37.753723Z",
     "iopub.status.busy": "2024-01-13T20:01:37.753218Z",
     "iopub.status.idle": "2024-01-13T20:01:40.005325Z",
     "shell.execute_reply": "2024-01-13T20:01:40.004095Z"
    },
    "papermill": {
     "duration": 2.273953,
     "end_time": "2024-01-13T20:01:40.007305",
     "exception": false,
     "start_time": "2024-01-13T20:01:37.733352",
     "status": "completed"
    },
    "tags": []
   },
   "outputs": [
    {
     "data": {
      "text/html": [
       "<style>#sk-container-id-1 {color: black;background-color: white;}#sk-container-id-1 pre{padding: 0;}#sk-container-id-1 div.sk-toggleable {background-color: white;}#sk-container-id-1 label.sk-toggleable__label {cursor: pointer;display: block;width: 100%;margin-bottom: 0;padding: 0.3em;box-sizing: border-box;text-align: center;}#sk-container-id-1 label.sk-toggleable__label-arrow:before {content: \"▸\";float: left;margin-right: 0.25em;color: #696969;}#sk-container-id-1 label.sk-toggleable__label-arrow:hover:before {color: black;}#sk-container-id-1 div.sk-estimator:hover label.sk-toggleable__label-arrow:before {color: black;}#sk-container-id-1 div.sk-toggleable__content {max-height: 0;max-width: 0;overflow: hidden;text-align: left;background-color: #f0f8ff;}#sk-container-id-1 div.sk-toggleable__content pre {margin: 0.2em;color: black;border-radius: 0.25em;background-color: #f0f8ff;}#sk-container-id-1 input.sk-toggleable__control:checked~div.sk-toggleable__content {max-height: 200px;max-width: 100%;overflow: auto;}#sk-container-id-1 input.sk-toggleable__control:checked~label.sk-toggleable__label-arrow:before {content: \"▾\";}#sk-container-id-1 div.sk-estimator input.sk-toggleable__control:checked~label.sk-toggleable__label {background-color: #d4ebff;}#sk-container-id-1 div.sk-label input.sk-toggleable__control:checked~label.sk-toggleable__label {background-color: #d4ebff;}#sk-container-id-1 input.sk-hidden--visually {border: 0;clip: rect(1px 1px 1px 1px);clip: rect(1px, 1px, 1px, 1px);height: 1px;margin: -1px;overflow: hidden;padding: 0;position: absolute;width: 1px;}#sk-container-id-1 div.sk-estimator {font-family: monospace;background-color: #f0f8ff;border: 1px dotted black;border-radius: 0.25em;box-sizing: border-box;margin-bottom: 0.5em;}#sk-container-id-1 div.sk-estimator:hover {background-color: #d4ebff;}#sk-container-id-1 div.sk-parallel-item::after {content: \"\";width: 100%;border-bottom: 1px solid gray;flex-grow: 1;}#sk-container-id-1 div.sk-label:hover label.sk-toggleable__label {background-color: #d4ebff;}#sk-container-id-1 div.sk-serial::before {content: \"\";position: absolute;border-left: 1px solid gray;box-sizing: border-box;top: 0;bottom: 0;left: 50%;z-index: 0;}#sk-container-id-1 div.sk-serial {display: flex;flex-direction: column;align-items: center;background-color: white;padding-right: 0.2em;padding-left: 0.2em;position: relative;}#sk-container-id-1 div.sk-item {position: relative;z-index: 1;}#sk-container-id-1 div.sk-parallel {display: flex;align-items: stretch;justify-content: center;background-color: white;position: relative;}#sk-container-id-1 div.sk-item::before, #sk-container-id-1 div.sk-parallel-item::before {content: \"\";position: absolute;border-left: 1px solid gray;box-sizing: border-box;top: 0;bottom: 0;left: 50%;z-index: -1;}#sk-container-id-1 div.sk-parallel-item {display: flex;flex-direction: column;z-index: 1;position: relative;background-color: white;}#sk-container-id-1 div.sk-parallel-item:first-child::after {align-self: flex-end;width: 50%;}#sk-container-id-1 div.sk-parallel-item:last-child::after {align-self: flex-start;width: 50%;}#sk-container-id-1 div.sk-parallel-item:only-child::after {width: 0;}#sk-container-id-1 div.sk-dashed-wrapped {border: 1px dashed gray;margin: 0 0.4em 0.5em 0.4em;box-sizing: border-box;padding-bottom: 0.4em;background-color: white;}#sk-container-id-1 div.sk-label label {font-family: monospace;font-weight: bold;display: inline-block;line-height: 1.2em;}#sk-container-id-1 div.sk-label-container {text-align: center;}#sk-container-id-1 div.sk-container {/* jupyter's `normalize.less` sets `[hidden] { display: none; }` but bootstrap.min.css set `[hidden] { display: none !important; }` so we also need the `!important` here to be able to override the default hidden behavior on the sphinx rendered scikit-learn.org. See: https://github.com/scikit-learn/scikit-learn/issues/21755 */display: inline-block !important;position: relative;}#sk-container-id-1 div.sk-text-repr-fallback {display: none;}</style><div id=\"sk-container-id-1\" class=\"sk-top-container\"><div class=\"sk-text-repr-fallback\"><pre>SGDClassifier(random_state=42)</pre><b>In a Jupyter environment, please rerun this cell to show the HTML representation or trust the notebook. <br />On GitHub, the HTML representation is unable to render, please try loading this page with nbviewer.org.</b></div><div class=\"sk-container\" hidden><div class=\"sk-item\"><div class=\"sk-estimator sk-toggleable\"><input class=\"sk-toggleable__control sk-hidden--visually\" id=\"sk-estimator-id-1\" type=\"checkbox\" checked><label for=\"sk-estimator-id-1\" class=\"sk-toggleable__label sk-toggleable__label-arrow\">SGDClassifier</label><div class=\"sk-toggleable__content\"><pre>SGDClassifier(random_state=42)</pre></div></div></div></div></div>"
      ],
      "text/plain": [
       "SGDClassifier(random_state=42)"
      ]
     },
     "execution_count": 40,
     "metadata": {},
     "output_type": "execute_result"
    }
   ],
   "source": [
    "sgd_clf = SGDClassifier(random_state=42)\n",
    "sgd_clf.fit(transformed_data, y_train)"
   ]
  },
  {
   "cell_type": "markdown",
   "id": "8a27fac4",
   "metadata": {
    "papermill": {
     "duration": 0.017202,
     "end_time": "2024-01-13T20:01:40.042500",
     "exception": false,
     "start_time": "2024-01-13T20:01:40.025298",
     "status": "completed"
    },
    "tags": []
   },
   "source": [
    "### Model Evaluation"
   ]
  },
  {
   "cell_type": "code",
   "execution_count": 41,
   "id": "2717264a",
   "metadata": {
    "execution": {
     "iopub.execute_input": "2024-01-13T20:01:40.081931Z",
     "iopub.status.busy": "2024-01-13T20:01:40.080730Z",
     "iopub.status.idle": "2024-01-13T20:01:50.647352Z",
     "shell.execute_reply": "2024-01-13T20:01:50.646435Z"
    },
    "papermill": {
     "duration": 10.588326,
     "end_time": "2024-01-13T20:01:50.649978",
     "exception": false,
     "start_time": "2024-01-13T20:01:40.061652",
     "status": "completed"
    },
    "tags": []
   },
   "outputs": [],
   "source": [
    "from sklearn.model_selection import cross_val_predict\n",
    "\n",
    "y_train_preds = cross_val_predict(sgd_clf, transformed_data, y_train, cv=5)"
   ]
  },
  {
   "cell_type": "code",
   "execution_count": 42,
   "id": "4b989b98",
   "metadata": {
    "execution": {
     "iopub.execute_input": "2024-01-13T20:01:50.698852Z",
     "iopub.status.busy": "2024-01-13T20:01:50.698442Z",
     "iopub.status.idle": "2024-01-13T20:01:50.706680Z",
     "shell.execute_reply": "2024-01-13T20:01:50.705654Z"
    },
    "papermill": {
     "duration": 0.036713,
     "end_time": "2024-01-13T20:01:50.710255",
     "exception": false,
     "start_time": "2024-01-13T20:01:50.673542",
     "status": "completed"
    },
    "tags": []
   },
   "outputs": [
    {
     "data": {
      "text/plain": [
       "array([0, 0, 0, 0, 0, 0, 0, 0, 0, 0])"
      ]
     },
     "execution_count": 42,
     "metadata": {},
     "output_type": "execute_result"
    }
   ],
   "source": [
    "y_train_preds[:10]"
   ]
  },
  {
   "cell_type": "code",
   "execution_count": 43,
   "id": "abdb2bb5",
   "metadata": {
    "execution": {
     "iopub.execute_input": "2024-01-13T20:01:50.758870Z",
     "iopub.status.busy": "2024-01-13T20:01:50.758474Z",
     "iopub.status.idle": "2024-01-13T20:01:50.762840Z",
     "shell.execute_reply": "2024-01-13T20:01:50.762173Z"
    },
    "papermill": {
     "duration": 0.029787,
     "end_time": "2024-01-13T20:01:50.764481",
     "exception": false,
     "start_time": "2024-01-13T20:01:50.734694",
     "status": "completed"
    },
    "tags": []
   },
   "outputs": [],
   "source": [
    "from sklearn.metrics import confusion_matrix, precision_score, recall_score, accuracy_score"
   ]
  },
  {
   "cell_type": "code",
   "execution_count": 44,
   "id": "c49a0cef",
   "metadata": {
    "execution": {
     "iopub.execute_input": "2024-01-13T20:01:50.800436Z",
     "iopub.status.busy": "2024-01-13T20:01:50.799746Z",
     "iopub.status.idle": "2024-01-13T20:01:50.895717Z",
     "shell.execute_reply": "2024-01-13T20:01:50.893476Z"
    },
    "papermill": {
     "duration": 0.117927,
     "end_time": "2024-01-13T20:01:50.899522",
     "exception": false,
     "start_time": "2024-01-13T20:01:50.781595",
     "status": "completed"
    },
    "tags": []
   },
   "outputs": [
    {
     "data": {
      "text/plain": [
       "array([[608600,  20119],\n",
       "       [ 84063,  42190]])"
      ]
     },
     "execution_count": 44,
     "metadata": {},
     "output_type": "execute_result"
    }
   ],
   "source": [
    "confusion_matrix(y_train, y_train_preds)"
   ]
  },
  {
   "cell_type": "code",
   "execution_count": 45,
   "id": "1ec824bf",
   "metadata": {
    "execution": {
     "iopub.execute_input": "2024-01-13T20:01:50.939456Z",
     "iopub.status.busy": "2024-01-13T20:01:50.939059Z",
     "iopub.status.idle": "2024-01-13T20:01:50.991275Z",
     "shell.execute_reply": "2024-01-13T20:01:50.989884Z"
    },
    "papermill": {
     "duration": 0.073727,
     "end_time": "2024-01-13T20:01:50.993369",
     "exception": false,
     "start_time": "2024-01-13T20:01:50.919642",
     "status": "completed"
    },
    "tags": []
   },
   "outputs": [
    {
     "data": {
      "text/plain": [
       "0.8620054783488659"
      ]
     },
     "execution_count": 45,
     "metadata": {},
     "output_type": "execute_result"
    }
   ],
   "source": [
    "accuracy_score(y_train, y_train_preds)"
   ]
  },
  {
   "cell_type": "code",
   "execution_count": 46,
   "id": "de07ac3e",
   "metadata": {
    "execution": {
     "iopub.execute_input": "2024-01-13T20:01:51.035728Z",
     "iopub.status.busy": "2024-01-13T20:01:51.035189Z",
     "iopub.status.idle": "2024-01-13T20:01:51.236158Z",
     "shell.execute_reply": "2024-01-13T20:01:51.234795Z"
    },
    "papermill": {
     "duration": 0.225747,
     "end_time": "2024-01-13T20:01:51.238896",
     "exception": false,
     "start_time": "2024-01-13T20:01:51.013149",
     "status": "completed"
    },
    "tags": []
   },
   "outputs": [
    {
     "data": {
      "text/plain": [
       "0.6771092458553339"
      ]
     },
     "execution_count": 46,
     "metadata": {},
     "output_type": "execute_result"
    }
   ],
   "source": [
    "precision_score(y_train, y_train_preds)"
   ]
  },
  {
   "cell_type": "code",
   "execution_count": 47,
   "id": "29e00416",
   "metadata": {
    "execution": {
     "iopub.execute_input": "2024-01-13T20:01:51.278640Z",
     "iopub.status.busy": "2024-01-13T20:01:51.277165Z",
     "iopub.status.idle": "2024-01-13T20:01:51.473240Z",
     "shell.execute_reply": "2024-01-13T20:01:51.471243Z"
    },
    "papermill": {
     "duration": 0.219434,
     "end_time": "2024-01-13T20:01:51.476715",
     "exception": false,
     "start_time": "2024-01-13T20:01:51.257281",
     "status": "completed"
    },
    "tags": []
   },
   "outputs": [
    {
     "data": {
      "text/plain": [
       "0.3341702771419293"
      ]
     },
     "execution_count": 47,
     "metadata": {},
     "output_type": "execute_result"
    }
   ],
   "source": [
    "recall_score(y_train, y_train_preds)"
   ]
  },
  {
   "cell_type": "code",
   "execution_count": null,
   "id": "0fa10c8c",
   "metadata": {
    "papermill": {
     "duration": 0.017732,
     "end_time": "2024-01-13T20:01:51.513102",
     "exception": false,
     "start_time": "2024-01-13T20:01:51.495370",
     "status": "completed"
    },
    "tags": []
   },
   "outputs": [],
   "source": []
  }
 ],
 "metadata": {
  "kaggle": {
   "accelerator": "none",
   "dataSources": [
    {
     "datasetId": 4216802,
     "sourceId": 7273683,
     "sourceType": "datasetVersion"
    }
   ],
   "dockerImageVersionId": 30635,
   "isGpuEnabled": false,
   "isInternetEnabled": true,
   "language": "python",
   "sourceType": "notebook"
  },
  "kernelspec": {
   "display_name": "Python 3",
   "language": "python",
   "name": "python3"
  },
  "language_info": {
   "codemirror_mode": {
    "name": "ipython",
    "version": 3
   },
   "file_extension": ".py",
   "mimetype": "text/x-python",
   "name": "python",
   "nbconvert_exporter": "python",
   "pygments_lexer": "ipython3",
   "version": "3.10.12"
  },
  "papermill": {
   "default_parameters": {},
   "duration": 114.394827,
   "end_time": "2024-01-13T20:01:52.657724",
   "environment_variables": {},
   "exception": null,
   "input_path": "__notebook__.ipynb",
   "output_path": "__notebook__.ipynb",
   "parameters": {},
   "start_time": "2024-01-13T19:59:58.262897",
   "version": "2.4.0"
  }
 },
 "nbformat": 4,
 "nbformat_minor": 5
}
