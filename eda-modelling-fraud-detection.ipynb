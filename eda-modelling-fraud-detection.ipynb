{
 "cells": [
  {
   "cell_type": "code",
   "execution_count": 1,
   "id": "d04b3d4c",
   "metadata": {
    "_cell_guid": "b1076dfc-b9ad-4769-8c92-a6c4dae69d19",
    "_uuid": "8f2839f25d086af736a60e9eeb907d3b93b6e0e5",
    "execution": {
     "iopub.execute_input": "2024-01-12T08:46:42.311030Z",
     "iopub.status.busy": "2024-01-12T08:46:42.310628Z",
     "iopub.status.idle": "2024-01-12T08:46:42.766538Z",
     "shell.execute_reply": "2024-01-12T08:46:42.765253Z"
    },
    "papermill": {
     "duration": 0.472514,
     "end_time": "2024-01-12T08:46:42.769410",
     "exception": false,
     "start_time": "2024-01-12T08:46:42.296896",
     "status": "completed"
    },
    "tags": []
   },
   "outputs": [
    {
     "name": "stdout",
     "output_type": "stream",
     "text": [
      "/kaggle/input/transactions-data-bank-fraud-detection/Fraud.csv\n"
     ]
    }
   ],
   "source": [
    "# This Python 3 environment comes with many helpful analytics libraries installed\n",
    "# It is defined by the kaggle/python Docker image: https://github.com/kaggle/docker-python\n",
    "# For example, here's several helpful packages to load\n",
    "\n",
    "import numpy as np # linear algebra\n",
    "import pandas as pd # data processing, CSV file I/O (e.g. pd.read_csv)\n",
    "\n",
    "# Input data files are available in the read-only \"../input/\" directory\n",
    "# For example, running this (by clicking run or pressing Shift+Enter) will list all files under the input directory\n",
    "\n",
    "import os\n",
    "for dirname, _, filenames in os.walk('/kaggle/input'):\n",
    "    for filename in filenames:\n",
    "        print(os.path.join(dirname, filename))\n",
    "\n",
    "# You can write up to 20GB to the current directory (/kaggle/working/) that gets preserved as output when you create a version using \"Save & Run All\" \n",
    "# You can also write temporary files to /kaggle/temp/, but they won't be saved outside of the current session"
   ]
  },
  {
   "cell_type": "code",
   "execution_count": 2,
   "id": "264f552f",
   "metadata": {
    "execution": {
     "iopub.execute_input": "2024-01-12T08:46:42.795116Z",
     "iopub.status.busy": "2024-01-12T08:46:42.793838Z",
     "iopub.status.idle": "2024-01-12T08:48:08.255086Z",
     "shell.execute_reply": "2024-01-12T08:48:08.253591Z"
    },
    "papermill": {
     "duration": 85.478013,
     "end_time": "2024-01-12T08:48:08.258909",
     "exception": false,
     "start_time": "2024-01-12T08:46:42.780896",
     "status": "completed"
    },
    "tags": []
   },
   "outputs": [
    {
     "name": "stderr",
     "output_type": "stream",
     "text": [
      "/tmp/ipykernel_18/2485261295.py:1: UserWarning: Could not infer format, so each element will be parsed individually, falling back to `dateutil`. To ensure parsing is consistent and as-expected, please specify a format.\n",
      "  fraud_df = pd.read_csv(\"/kaggle/input/transactions-data-bank-fraud-detection/Fraud.csv\", parse_dates=[\"Date\"])\n"
     ]
    }
   ],
   "source": [
    "fraud_df = pd.read_csv(\"/kaggle/input/transactions-data-bank-fraud-detection/Fraud.csv\", parse_dates=[\"Date\"])"
   ]
  },
  {
   "cell_type": "code",
   "execution_count": 3,
   "id": "01fb6ebf",
   "metadata": {
    "execution": {
     "iopub.execute_input": "2024-01-12T08:48:08.284368Z",
     "iopub.status.busy": "2024-01-12T08:48:08.283830Z",
     "iopub.status.idle": "2024-01-12T08:48:08.318487Z",
     "shell.execute_reply": "2024-01-12T08:48:08.317155Z"
    },
    "papermill": {
     "duration": 0.050321,
     "end_time": "2024-01-12T08:48:08.321072",
     "exception": false,
     "start_time": "2024-01-12T08:48:08.270751",
     "status": "completed"
    },
    "tags": []
   },
   "outputs": [
    {
     "data": {
      "text/html": [
       "<div>\n",
       "<style scoped>\n",
       "    .dataframe tbody tr th:only-of-type {\n",
       "        vertical-align: middle;\n",
       "    }\n",
       "\n",
       "    .dataframe tbody tr th {\n",
       "        vertical-align: top;\n",
       "    }\n",
       "\n",
       "    .dataframe thead th {\n",
       "        text-align: right;\n",
       "    }\n",
       "</style>\n",
       "<table border=\"1\" class=\"dataframe\">\n",
       "  <thead>\n",
       "    <tr style=\"text-align: right;\">\n",
       "      <th></th>\n",
       "      <th>Date</th>\n",
       "      <th>nameOrig</th>\n",
       "      <th>amount</th>\n",
       "      <th>oldbalanceOrg</th>\n",
       "      <th>newbalanceOrig</th>\n",
       "      <th>City</th>\n",
       "      <th>type</th>\n",
       "      <th>Card Type</th>\n",
       "      <th>Exp Type</th>\n",
       "      <th>Gender</th>\n",
       "      <th>isFraud</th>\n",
       "    </tr>\n",
       "  </thead>\n",
       "  <tbody>\n",
       "    <tr>\n",
       "      <th>0</th>\n",
       "      <td>2013-05-26</td>\n",
       "      <td>C2011200430</td>\n",
       "      <td>242.0</td>\n",
       "      <td>302.0</td>\n",
       "      <td>60.0</td>\n",
       "      <td>Ahmedabad, India</td>\n",
       "      <td>TRANSFER</td>\n",
       "      <td>Gold</td>\n",
       "      <td>Food</td>\n",
       "      <td>F</td>\n",
       "      <td>1</td>\n",
       "    </tr>\n",
       "    <tr>\n",
       "      <th>1</th>\n",
       "      <td>2012-07-26</td>\n",
       "      <td>C931301500</td>\n",
       "      <td>7081.0</td>\n",
       "      <td>46066.0</td>\n",
       "      <td>38985.0</td>\n",
       "      <td>Delhi, India</td>\n",
       "      <td>TRANSFER</td>\n",
       "      <td>Gold</td>\n",
       "      <td>Entertainment</td>\n",
       "      <td>M</td>\n",
       "      <td>1</td>\n",
       "    </tr>\n",
       "    <tr>\n",
       "      <th>2</th>\n",
       "      <td>2012-04-12</td>\n",
       "      <td>C963642457</td>\n",
       "      <td>16355.0</td>\n",
       "      <td>30355.0</td>\n",
       "      <td>14000.0</td>\n",
       "      <td>Kolkata, India</td>\n",
       "      <td>TRANSFER</td>\n",
       "      <td>Silver</td>\n",
       "      <td>Fuel</td>\n",
       "      <td>F</td>\n",
       "      <td>1</td>\n",
       "    </tr>\n",
       "    <tr>\n",
       "      <th>3</th>\n",
       "      <td>2012-01-28</td>\n",
       "      <td>C1439438217</td>\n",
       "      <td>20820.0</td>\n",
       "      <td>39663.0</td>\n",
       "      <td>18843.0</td>\n",
       "      <td>Lucknow, India</td>\n",
       "      <td>TRANSFER</td>\n",
       "      <td>Gold</td>\n",
       "      <td>Food</td>\n",
       "      <td>F</td>\n",
       "      <td>1</td>\n",
       "    </tr>\n",
       "    <tr>\n",
       "      <th>4</th>\n",
       "      <td>2014-04-16</td>\n",
       "      <td>C892940485</td>\n",
       "      <td>6071.0</td>\n",
       "      <td>35586.0</td>\n",
       "      <td>29515.0</td>\n",
       "      <td>Bengaluru, India</td>\n",
       "      <td>TRANSFER</td>\n",
       "      <td>Gold</td>\n",
       "      <td>Fuel</td>\n",
       "      <td>M</td>\n",
       "      <td>1</td>\n",
       "    </tr>\n",
       "  </tbody>\n",
       "</table>\n",
       "</div>"
      ],
      "text/plain": [
       "        Date     nameOrig   amount  oldbalanceOrg  newbalanceOrig  \\\n",
       "0 2013-05-26  C2011200430    242.0          302.0            60.0   \n",
       "1 2012-07-26   C931301500   7081.0        46066.0         38985.0   \n",
       "2 2012-04-12   C963642457  16355.0        30355.0         14000.0   \n",
       "3 2012-01-28  C1439438217  20820.0        39663.0         18843.0   \n",
       "4 2014-04-16   C892940485   6071.0        35586.0         29515.0   \n",
       "\n",
       "               City      type Card Type       Exp Type Gender  isFraud  \n",
       "0  Ahmedabad, India  TRANSFER      Gold           Food      F        1  \n",
       "1      Delhi, India  TRANSFER      Gold  Entertainment      M        1  \n",
       "2    Kolkata, India  TRANSFER    Silver           Fuel      F        1  \n",
       "3    Lucknow, India  TRANSFER      Gold           Food      F        1  \n",
       "4  Bengaluru, India  TRANSFER      Gold           Fuel      M        1  "
      ]
     },
     "execution_count": 3,
     "metadata": {},
     "output_type": "execute_result"
    }
   ],
   "source": [
    "fraud_df.head()"
   ]
  },
  {
   "cell_type": "code",
   "execution_count": 4,
   "id": "1d53d29f",
   "metadata": {
    "execution": {
     "iopub.execute_input": "2024-01-12T08:48:08.346371Z",
     "iopub.status.busy": "2024-01-12T08:48:08.345435Z",
     "iopub.status.idle": "2024-01-12T08:48:08.584382Z",
     "shell.execute_reply": "2024-01-12T08:48:08.583250Z"
    },
    "papermill": {
     "duration": 0.254445,
     "end_time": "2024-01-12T08:48:08.587115",
     "exception": false,
     "start_time": "2024-01-12T08:48:08.332670",
     "status": "completed"
    },
    "tags": []
   },
   "outputs": [
    {
     "data": {
      "text/html": [
       "<div>\n",
       "<style scoped>\n",
       "    .dataframe tbody tr th:only-of-type {\n",
       "        vertical-align: middle;\n",
       "    }\n",
       "\n",
       "    .dataframe tbody tr th {\n",
       "        vertical-align: top;\n",
       "    }\n",
       "\n",
       "    .dataframe thead th {\n",
       "        text-align: right;\n",
       "    }\n",
       "</style>\n",
       "<table border=\"1\" class=\"dataframe\">\n",
       "  <thead>\n",
       "    <tr style=\"text-align: right;\">\n",
       "      <th></th>\n",
       "      <th>Date</th>\n",
       "      <th>amount</th>\n",
       "      <th>oldbalanceOrg</th>\n",
       "      <th>newbalanceOrig</th>\n",
       "      <th>isFraud</th>\n",
       "    </tr>\n",
       "  </thead>\n",
       "  <tbody>\n",
       "    <tr>\n",
       "      <th>count</th>\n",
       "      <td>1048574</td>\n",
       "      <td>1.048574e+06</td>\n",
       "      <td>1.048574e+06</td>\n",
       "      <td>1.048574e+06</td>\n",
       "      <td>1.048574e+06</td>\n",
       "    </tr>\n",
       "    <tr>\n",
       "      <th>mean</th>\n",
       "      <td>2013-02-26 19:18:36.892847104</td>\n",
       "      <td>3.802767e+04</td>\n",
       "      <td>8.801983e+05</td>\n",
       "      <td>8.421706e+05</td>\n",
       "      <td>1.676420e-01</td>\n",
       "    </tr>\n",
       "    <tr>\n",
       "      <th>min</th>\n",
       "      <td>2011-10-09 00:00:00</td>\n",
       "      <td>0.000000e+00</td>\n",
       "      <td>0.000000e+00</td>\n",
       "      <td>0.000000e+00</td>\n",
       "      <td>0.000000e+00</td>\n",
       "    </tr>\n",
       "    <tr>\n",
       "      <th>25%</th>\n",
       "      <td>2012-06-18 00:00:00</td>\n",
       "      <td>6.470000e+02</td>\n",
       "      <td>4.343812e+03</td>\n",
       "      <td>9.180000e+02</td>\n",
       "      <td>0.000000e+00</td>\n",
       "    </tr>\n",
       "    <tr>\n",
       "      <th>50%</th>\n",
       "      <td>2013-02-26 00:00:00</td>\n",
       "      <td>8.263000e+03</td>\n",
       "      <td>3.653918e+04</td>\n",
       "      <td>2.055200e+04</td>\n",
       "      <td>0.000000e+00</td>\n",
       "    </tr>\n",
       "    <tr>\n",
       "      <th>75%</th>\n",
       "      <td>2013-11-05 00:00:00</td>\n",
       "      <td>2.365000e+04</td>\n",
       "      <td>1.366425e+05</td>\n",
       "      <td>9.030729e+04</td>\n",
       "      <td>0.000000e+00</td>\n",
       "    </tr>\n",
       "    <tr>\n",
       "      <th>max</th>\n",
       "      <td>2015-05-26 00:00:00</td>\n",
       "      <td>1.000000e+07</td>\n",
       "      <td>3.890000e+07</td>\n",
       "      <td>3.889319e+07</td>\n",
       "      <td>1.000000e+00</td>\n",
       "    </tr>\n",
       "    <tr>\n",
       "      <th>std</th>\n",
       "      <td>NaN</td>\n",
       "      <td>1.105168e+05</td>\n",
       "      <td>2.969968e+06</td>\n",
       "      <td>2.936373e+06</td>\n",
       "      <td>3.735482e-01</td>\n",
       "    </tr>\n",
       "  </tbody>\n",
       "</table>\n",
       "</div>"
      ],
      "text/plain": [
       "                                Date        amount  oldbalanceOrg  \\\n",
       "count                        1048574  1.048574e+06   1.048574e+06   \n",
       "mean   2013-02-26 19:18:36.892847104  3.802767e+04   8.801983e+05   \n",
       "min              2011-10-09 00:00:00  0.000000e+00   0.000000e+00   \n",
       "25%              2012-06-18 00:00:00  6.470000e+02   4.343812e+03   \n",
       "50%              2013-02-26 00:00:00  8.263000e+03   3.653918e+04   \n",
       "75%              2013-11-05 00:00:00  2.365000e+04   1.366425e+05   \n",
       "max              2015-05-26 00:00:00  1.000000e+07   3.890000e+07   \n",
       "std                              NaN  1.105168e+05   2.969968e+06   \n",
       "\n",
       "       newbalanceOrig       isFraud  \n",
       "count    1.048574e+06  1.048574e+06  \n",
       "mean     8.421706e+05  1.676420e-01  \n",
       "min      0.000000e+00  0.000000e+00  \n",
       "25%      9.180000e+02  0.000000e+00  \n",
       "50%      2.055200e+04  0.000000e+00  \n",
       "75%      9.030729e+04  0.000000e+00  \n",
       "max      3.889319e+07  1.000000e+00  \n",
       "std      2.936373e+06  3.735482e-01  "
      ]
     },
     "execution_count": 4,
     "metadata": {},
     "output_type": "execute_result"
    }
   ],
   "source": [
    "fraud_df.describe()"
   ]
  },
  {
   "cell_type": "markdown",
   "id": "9399d050",
   "metadata": {
    "papermill": {
     "duration": 0.0117,
     "end_time": "2024-01-12T08:48:08.610326",
     "exception": false,
     "start_time": "2024-01-12T08:48:08.598626",
     "status": "completed"
    },
    "tags": []
   },
   "source": [
    "### Split Train/Test Data"
   ]
  },
  {
   "cell_type": "code",
   "execution_count": 5,
   "id": "ee87d718",
   "metadata": {
    "execution": {
     "iopub.execute_input": "2024-01-12T08:48:08.635968Z",
     "iopub.status.busy": "2024-01-12T08:48:08.635499Z",
     "iopub.status.idle": "2024-01-12T08:48:09.992655Z",
     "shell.execute_reply": "2024-01-12T08:48:09.991239Z"
    },
    "papermill": {
     "duration": 1.374146,
     "end_time": "2024-01-12T08:48:09.996220",
     "exception": false,
     "start_time": "2024-01-12T08:48:08.622074",
     "status": "completed"
    },
    "tags": []
   },
   "outputs": [],
   "source": [
    "from sklearn.model_selection import StratifiedShuffleSplit\n",
    "from sklearn.model_selection import train_test_split"
   ]
  },
  {
   "cell_type": "code",
   "execution_count": 6,
   "id": "51b86e5f",
   "metadata": {
    "execution": {
     "iopub.execute_input": "2024-01-12T08:48:10.023865Z",
     "iopub.status.busy": "2024-01-12T08:48:10.022595Z",
     "iopub.status.idle": "2024-01-12T08:48:11.314214Z",
     "shell.execute_reply": "2024-01-12T08:48:11.312897Z"
    },
    "papermill": {
     "duration": 1.308538,
     "end_time": "2024-01-12T08:48:11.317479",
     "exception": false,
     "start_time": "2024-01-12T08:48:10.008941",
     "status": "completed"
    },
    "tags": []
   },
   "outputs": [],
   "source": [
    "# create train_test\n",
    "\n",
    "X_train_val, X_test = train_test_split(fraud_df, test_size=0.1, random_state=42)"
   ]
  },
  {
   "cell_type": "markdown",
   "id": "26b9452b",
   "metadata": {
    "papermill": {
     "duration": 0.012397,
     "end_time": "2024-01-12T08:48:11.342276",
     "exception": false,
     "start_time": "2024-01-12T08:48:11.329879",
     "status": "completed"
    },
    "tags": []
   },
   "source": [
    "## Data Inspection"
   ]
  },
  {
   "cell_type": "code",
   "execution_count": 7,
   "id": "9104b96d",
   "metadata": {
    "execution": {
     "iopub.execute_input": "2024-01-12T08:48:11.370674Z",
     "iopub.status.busy": "2024-01-12T08:48:11.370258Z",
     "iopub.status.idle": "2024-01-12T08:48:12.036338Z",
     "shell.execute_reply": "2024-01-12T08:48:12.034932Z"
    },
    "papermill": {
     "duration": 0.68397,
     "end_time": "2024-01-12T08:48:12.039644",
     "exception": false,
     "start_time": "2024-01-12T08:48:11.355674",
     "status": "completed"
    },
    "tags": []
   },
   "outputs": [
    {
     "data": {
      "text/plain": [
       "Date              False\n",
       "nameOrig          False\n",
       "amount            False\n",
       "oldbalanceOrg     False\n",
       "newbalanceOrig    False\n",
       "City              False\n",
       "type              False\n",
       "Card Type         False\n",
       "Exp Type          False\n",
       "Gender            False\n",
       "isFraud           False\n",
       "dtype: bool"
      ]
     },
     "execution_count": 7,
     "metadata": {},
     "output_type": "execute_result"
    }
   ],
   "source": [
    "## missing values\n",
    "\n",
    "X_train_val.isna().any()"
   ]
  },
  {
   "cell_type": "code",
   "execution_count": 8,
   "id": "1b3b61b1",
   "metadata": {
    "execution": {
     "iopub.execute_input": "2024-01-12T08:48:12.067762Z",
     "iopub.status.busy": "2024-01-12T08:48:12.067304Z",
     "iopub.status.idle": "2024-01-12T08:48:13.626533Z",
     "shell.execute_reply": "2024-01-12T08:48:13.624985Z"
    },
    "papermill": {
     "duration": 1.576782,
     "end_time": "2024-01-12T08:48:13.629496",
     "exception": false,
     "start_time": "2024-01-12T08:48:12.052714",
     "status": "completed"
    },
    "tags": []
   },
   "outputs": [
    {
     "data": {
      "text/plain": [
       "False"
      ]
     },
     "execution_count": 8,
     "metadata": {},
     "output_type": "execute_result"
    }
   ],
   "source": [
    "## duplicated rows\n",
    "\n",
    "X_train_val.duplicated().any()"
   ]
  },
  {
   "cell_type": "code",
   "execution_count": 9,
   "id": "92309be9",
   "metadata": {
    "execution": {
     "iopub.execute_input": "2024-01-12T08:48:13.657710Z",
     "iopub.status.busy": "2024-01-12T08:48:13.657222Z",
     "iopub.status.idle": "2024-01-12T08:48:14.431500Z",
     "shell.execute_reply": "2024-01-12T08:48:14.429992Z"
    },
    "papermill": {
     "duration": 0.792245,
     "end_time": "2024-01-12T08:48:14.434630",
     "exception": false,
     "start_time": "2024-01-12T08:48:13.642385",
     "status": "completed"
    },
    "tags": []
   },
   "outputs": [
    {
     "name": "stdout",
     "output_type": "stream",
     "text": [
      "<class 'pandas.core.frame.DataFrame'>\n",
      "Index: 943716 entries, 979635 to 121958\n",
      "Data columns (total 11 columns):\n",
      " #   Column          Non-Null Count   Dtype         \n",
      "---  ------          --------------   -----         \n",
      " 0   Date            943716 non-null  datetime64[ns]\n",
      " 1   nameOrig        943716 non-null  object        \n",
      " 2   amount          943716 non-null  float64       \n",
      " 3   oldbalanceOrg   943716 non-null  float64       \n",
      " 4   newbalanceOrig  943716 non-null  float64       \n",
      " 5   City            943716 non-null  object        \n",
      " 6   type            943716 non-null  object        \n",
      " 7   Card Type       943716 non-null  object        \n",
      " 8   Exp Type        943716 non-null  object        \n",
      " 9   Gender          943716 non-null  object        \n",
      " 10  isFraud         943716 non-null  int64         \n",
      "dtypes: datetime64[ns](1), float64(3), int64(1), object(6)\n",
      "memory usage: 86.4+ MB\n"
     ]
    }
   ],
   "source": [
    "## Information on columns\n",
    "\n",
    "X_train_val.info()"
   ]
  },
  {
   "cell_type": "code",
   "execution_count": 10,
   "id": "3d9a8913",
   "metadata": {
    "execution": {
     "iopub.execute_input": "2024-01-12T08:48:14.461696Z",
     "iopub.status.busy": "2024-01-12T08:48:14.461271Z",
     "iopub.status.idle": "2024-01-12T08:48:14.597397Z",
     "shell.execute_reply": "2024-01-12T08:48:14.595674Z"
    },
    "papermill": {
     "duration": 0.153441,
     "end_time": "2024-01-12T08:48:14.600826",
     "exception": false,
     "start_time": "2024-01-12T08:48:14.447385",
     "status": "completed"
    },
    "tags": []
   },
   "outputs": [],
   "source": [
    "#Get numerical and categorical columns for analysis\n",
    "\n",
    "cat_cols = X_train_val.select_dtypes(\"object\").columns.tolist()[1:]\n",
    "num_cols = X_train_val.select_dtypes(include=np.number).columns.tolist()"
   ]
  },
  {
   "cell_type": "code",
   "execution_count": 11,
   "id": "edaaee86",
   "metadata": {
    "execution": {
     "iopub.execute_input": "2024-01-12T08:48:14.628737Z",
     "iopub.status.busy": "2024-01-12T08:48:14.628314Z",
     "iopub.status.idle": "2024-01-12T08:48:14.635404Z",
     "shell.execute_reply": "2024-01-12T08:48:14.634002Z"
    },
    "papermill": {
     "duration": 0.024393,
     "end_time": "2024-01-12T08:48:14.638050",
     "exception": false,
     "start_time": "2024-01-12T08:48:14.613657",
     "status": "completed"
    },
    "tags": []
   },
   "outputs": [],
   "source": [
    "# print categories in categorical columns\n",
    "\n",
    "def view_cat_cols(df, cols):\n",
    "    for col in cols:\n",
    "        print(\"*************************\")\n",
    "        print(df[col].value_counts(normalize=True))\n",
    "        print(\"*************************\")"
   ]
  },
  {
   "cell_type": "code",
   "execution_count": 12,
   "id": "95372a97",
   "metadata": {
    "execution": {
     "iopub.execute_input": "2024-01-12T08:48:14.666435Z",
     "iopub.status.busy": "2024-01-12T08:48:14.665735Z",
     "iopub.status.idle": "2024-01-12T08:48:15.463931Z",
     "shell.execute_reply": "2024-01-12T08:48:15.462815Z"
    },
    "papermill": {
     "duration": 0.815493,
     "end_time": "2024-01-12T08:48:15.466461",
     "exception": false,
     "start_time": "2024-01-12T08:48:14.650968",
     "status": "completed"
    },
    "tags": []
   },
   "outputs": [
    {
     "name": "stdout",
     "output_type": "stream",
     "text": [
      "*************************\n",
      "City\n",
      "Bengaluru, India          0.137102\n",
      "Ahmedabad, India          0.134784\n",
      "Greater Mumbai, India     0.134722\n",
      "Delhi, India              0.134339\n",
      "Hyderabad, India          0.029883\n",
      "                            ...   \n",
      "Fazilka, India            0.000036\n",
      "Bagaha, India             0.000036\n",
      "Hugli-Chinsurah, India    0.000036\n",
      "Godhra, India             0.000035\n",
      "Varanasi, India           0.000033\n",
      "Name: proportion, Length: 986, dtype: float64\n",
      "*************************\n",
      "*************************\n",
      "type\n",
      "CASH_OUT    0.356303\n",
      "PAYMENT     0.337705\n",
      "CASH_IN     0.216306\n",
      "TRANSFER    0.082779\n",
      "DEBIT       0.006907\n",
      "Name: proportion, dtype: float64\n",
      "*************************\n",
      "*************************\n",
      "Card Type\n",
      "Silver       0.262785\n",
      "Signature    0.247563\n",
      "Platinum     0.245313\n",
      "Gold         0.244187\n",
      "Classic      0.000076\n",
      "Mass         0.000076\n",
      "Name: proportion, dtype: float64\n",
      "*************************\n",
      "*************************\n",
      "Exp Type\n",
      "Food              0.209876\n",
      "Fuel              0.201923\n",
      "Bills             0.195243\n",
      "Entertainment     0.182368\n",
      "Grocery           0.182285\n",
      "Travel            0.028191\n",
      "Home              0.000039\n",
      "Health_Fitness    0.000038\n",
      "Personal_Care     0.000037\n",
      "Name: proportion, dtype: float64\n",
      "*************************\n",
      "*************************\n",
      "Gender\n",
      "F    0.525367\n",
      "M    0.474633\n",
      "Name: proportion, dtype: float64\n",
      "*************************\n"
     ]
    }
   ],
   "source": [
    "view_cat_cols(X_train_val, cat_cols)"
   ]
  },
  {
   "cell_type": "code",
   "execution_count": 13,
   "id": "8e703def",
   "metadata": {
    "execution": {
     "iopub.execute_input": "2024-01-12T08:48:15.494069Z",
     "iopub.status.busy": "2024-01-12T08:48:15.493009Z",
     "iopub.status.idle": "2024-01-12T08:48:16.292972Z",
     "shell.execute_reply": "2024-01-12T08:48:16.292126Z"
    },
    "papermill": {
     "duration": 0.816199,
     "end_time": "2024-01-12T08:48:16.295617",
     "exception": false,
     "start_time": "2024-01-12T08:48:15.479418",
     "status": "completed"
    },
    "tags": []
   },
   "outputs": [],
   "source": [
    "## Create new column\n",
    "X_train_val[\"location\"] = X_train_val[\"City\"].apply(lambda X: X.split(\" \")[0].split(\",\")[0])"
   ]
  },
  {
   "cell_type": "code",
   "execution_count": 14,
   "id": "1af3562d",
   "metadata": {
    "execution": {
     "iopub.execute_input": "2024-01-12T08:48:16.324836Z",
     "iopub.status.busy": "2024-01-12T08:48:16.323886Z",
     "iopub.status.idle": "2024-01-12T08:48:17.346800Z",
     "shell.execute_reply": "2024-01-12T08:48:17.344151Z"
    },
    "papermill": {
     "duration": 1.040321,
     "end_time": "2024-01-12T08:48:17.349636",
     "exception": false,
     "start_time": "2024-01-12T08:48:16.309315",
     "status": "completed"
    },
    "tags": []
   },
   "outputs": [
    {
     "name": "stdout",
     "output_type": "stream",
     "text": [
      "*************************\n",
      "City\n",
      "Bengaluru, India          0.137102\n",
      "Ahmedabad, India          0.134784\n",
      "Greater Mumbai, India     0.134722\n",
      "Delhi, India              0.134339\n",
      "Hyderabad, India          0.029883\n",
      "                            ...   \n",
      "Fazilka, India            0.000036\n",
      "Bagaha, India             0.000036\n",
      "Hugli-Chinsurah, India    0.000036\n",
      "Godhra, India             0.000035\n",
      "Varanasi, India           0.000033\n",
      "Name: proportion, Length: 986, dtype: float64\n",
      "*************************\n",
      "*************************\n",
      "type\n",
      "CASH_OUT    0.356303\n",
      "PAYMENT     0.337705\n",
      "CASH_IN     0.216306\n",
      "TRANSFER    0.082779\n",
      "DEBIT       0.006907\n",
      "Name: proportion, dtype: float64\n",
      "*************************\n",
      "*************************\n",
      "Card Type\n",
      "Silver       0.262785\n",
      "Signature    0.247563\n",
      "Platinum     0.245313\n",
      "Gold         0.244187\n",
      "Classic      0.000076\n",
      "Mass         0.000076\n",
      "Name: proportion, dtype: float64\n",
      "*************************\n",
      "*************************\n",
      "Exp Type\n",
      "Food              0.209876\n",
      "Fuel              0.201923\n",
      "Bills             0.195243\n",
      "Entertainment     0.182368\n",
      "Grocery           0.182285\n",
      "Travel            0.028191\n",
      "Home              0.000039\n",
      "Health_Fitness    0.000038\n",
      "Personal_Care     0.000037\n",
      "Name: proportion, dtype: float64\n",
      "*************************\n",
      "*************************\n",
      "Gender\n",
      "F    0.525367\n",
      "M    0.474633\n",
      "Name: proportion, dtype: float64\n",
      "*************************\n",
      "*************************\n",
      "location\n",
      "Bengaluru    0.137102\n",
      "Ahmedabad    0.134784\n",
      "Greater      0.134722\n",
      "Delhi        0.134339\n",
      "Hyderabad    0.029883\n",
      "               ...   \n",
      "Alirajpur    0.000036\n",
      "Fazilka      0.000036\n",
      "Bagaha       0.000036\n",
      "Godhra       0.000035\n",
      "Varanasi     0.000033\n",
      "Name: proportion, Length: 980, dtype: float64\n",
      "*************************\n"
     ]
    }
   ],
   "source": [
    "cat_cols.append(\"location\")\n",
    "view_cat_cols(X_train_val, cat_cols)"
   ]
  },
  {
   "cell_type": "markdown",
   "id": "bd5f30a5",
   "metadata": {
    "papermill": {
     "duration": 0.01198,
     "end_time": "2024-01-12T08:48:17.374279",
     "exception": false,
     "start_time": "2024-01-12T08:48:17.362299",
     "status": "completed"
    },
    "tags": []
   },
   "source": [
    "- No empty or duplicated rows\n",
    "- Data has been processed and in right format"
   ]
  },
  {
   "cell_type": "markdown",
   "id": "12ec69c9",
   "metadata": {
    "papermill": {
     "duration": 0.012689,
     "end_time": "2024-01-12T08:48:17.399233",
     "exception": false,
     "start_time": "2024-01-12T08:48:17.386544",
     "status": "completed"
    },
    "tags": []
   },
   "source": [
    "## EDA"
   ]
  },
  {
   "cell_type": "code",
   "execution_count": 15,
   "id": "3ce235a7",
   "metadata": {
    "execution": {
     "iopub.execute_input": "2024-01-12T08:48:17.427336Z",
     "iopub.status.busy": "2024-01-12T08:48:17.426868Z",
     "iopub.status.idle": "2024-01-12T08:48:18.778320Z",
     "shell.execute_reply": "2024-01-12T08:48:18.777011Z"
    },
    "papermill": {
     "duration": 1.368829,
     "end_time": "2024-01-12T08:48:18.781364",
     "exception": false,
     "start_time": "2024-01-12T08:48:17.412535",
     "status": "completed"
    },
    "tags": []
   },
   "outputs": [],
   "source": [
    "# import chart libraries\n",
    "\n",
    "import matplotlib\n",
    "\n",
    "from matplotlib import pyplot as plt\n",
    "import seaborn as sns\n",
    "import plotly.express as px\n",
    "\n",
    "params = {\n",
    "    'figure.figsize': [10, 6],\n",
    "    'axes.titlesize': 10,\n",
    "    'axes.labelsize': 8\n",
    "}\n",
    "\n",
    "matplotlib.rcParams.update(params)"
   ]
  },
  {
   "cell_type": "code",
   "execution_count": 16,
   "id": "d555b139",
   "metadata": {
    "execution": {
     "iopub.execute_input": "2024-01-12T08:48:18.810626Z",
     "iopub.status.busy": "2024-01-12T08:48:18.809348Z",
     "iopub.status.idle": "2024-01-12T08:48:20.416977Z",
     "shell.execute_reply": "2024-01-12T08:48:20.415400Z"
    },
    "papermill": {
     "duration": 1.626028,
     "end_time": "2024-01-12T08:48:20.420644",
     "exception": false,
     "start_time": "2024-01-12T08:48:18.794616",
     "status": "completed"
    },
    "tags": []
   },
   "outputs": [
    {
     "data": {
      "image/png": "[encoded data removed]",
      "text/plain": [
       "<Figure size 1000x600 with 6 Axes>"
      ]
     },
     "metadata": {},
     "output_type": "display_data"
    }
   ],
   "source": [
    "X_train_val.hist(bins=20)\n",
    "plt.subplots_adjust(hspace=0.5)\n",
    "plt.xticks(rotation=45)\n",
    "plt.show()"
   ]
  },
  {
   "cell_type": "code",
   "execution_count": 17,
   "id": "0a724493",
   "metadata": {
    "execution": {
     "iopub.execute_input": "2024-01-12T08:48:20.452615Z",
     "iopub.status.busy": "2024-01-12T08:48:20.452064Z",
     "iopub.status.idle": "2024-01-12T08:48:21.778719Z",
     "shell.execute_reply": "2024-01-12T08:48:21.777674Z"
    },
    "papermill": {
     "duration": 1.346243,
     "end_time": "2024-01-12T08:48:21.781061",
     "exception": false,
     "start_time": "2024-01-12T08:48:20.434818",
     "status": "completed"
    },
    "tags": []
   },
   "outputs": [
    {
     "data": {
      "image/png": "[encoded data removed]",
      "text/plain": [
       "<Figure size 1000x600 with 1 Axes>"
      ]
     },
     "metadata": {},
     "output_type": "display_data"
    }
   ],
   "source": [
    "# distribution of the amount\n",
    "\n",
    "sns.histplot(X_train_val, x=np.log1p(X_train_val[\"amount\"]), bins=20, hue=\"isFraud\")\n",
    "plt.title(\"Distribution of amount\")\n",
    "plt.show()"
   ]
  },
  {
   "cell_type": "markdown",
   "id": "c87f2c83",
   "metadata": {
    "papermill": {
     "duration": 0.013389,
     "end_time": "2024-01-12T08:48:21.808770",
     "exception": false,
     "start_time": "2024-01-12T08:48:21.795381",
     "status": "completed"
    },
    "tags": []
   },
   "source": [
    "- We transform the highly skewed data using nlog1 to get a more general view on the variable\n",
    "- We use np.log1p as it handles zero values gracefully"
   ]
  },
  {
   "cell_type": "code",
   "execution_count": 18,
   "id": "e0727885",
   "metadata": {
    "execution": {
     "iopub.execute_input": "2024-01-12T08:48:21.838744Z",
     "iopub.status.busy": "2024-01-12T08:48:21.837930Z",
     "iopub.status.idle": "2024-01-12T08:48:21.854830Z",
     "shell.execute_reply": "2024-01-12T08:48:21.853844Z"
    },
    "papermill": {
     "duration": 0.035018,
     "end_time": "2024-01-12T08:48:21.857516",
     "exception": false,
     "start_time": "2024-01-12T08:48:21.822498",
     "status": "completed"
    },
    "tags": []
   },
   "outputs": [],
   "source": [
    "percentage_diff = abs((X_train_val[\"newbalanceOrig\"] - X_train_val[\"oldbalanceOrg\"]) / X_train_val[\"oldbalanceOrg\"]) * 100"
   ]
  },
  {
   "cell_type": "code",
   "execution_count": 19,
   "id": "2136f7b0",
   "metadata": {
    "execution": {
     "iopub.execute_input": "2024-01-12T08:48:21.888446Z",
     "iopub.status.busy": "2024-01-12T08:48:21.886911Z",
     "iopub.status.idle": "2024-01-12T08:48:23.476245Z",
     "shell.execute_reply": "2024-01-12T08:48:23.475347Z"
    },
    "papermill": {
     "duration": 1.607731,
     "end_time": "2024-01-12T08:48:23.479021",
     "exception": false,
     "start_time": "2024-01-12T08:48:21.871290",
     "status": "completed"
    },
    "tags": []
   },
   "outputs": [
    {
     "data": {
      "image/png": "[encoded data removed]",
      "text/plain": [
       "<Figure size 1000x600 with 1 Axes>"
      ]
     },
     "metadata": {},
     "output_type": "display_data"
    }
   ],
   "source": [
    "sns.histplot(X_train_val, x=percentage_diff, hue=\"isFraud\", common_norm=True)\n",
    "plt.title(\"Distribution of %difference in Balance\")\n",
    "plt.show()"
   ]
  },
  {
   "cell_type": "code",
   "execution_count": 20,
   "id": "feaa33d1",
   "metadata": {
    "execution": {
     "iopub.execute_input": "2024-01-12T08:48:23.619973Z",
     "iopub.status.busy": "2024-01-12T08:48:23.619274Z",
     "iopub.status.idle": "2024-01-12T08:48:24.583636Z",
     "shell.execute_reply": "2024-01-12T08:48:24.581923Z"
    },
    "papermill": {
     "duration": 0.986353,
     "end_time": "2024-01-12T08:48:24.586863",
     "exception": false,
     "start_time": "2024-01-12T08:48:23.600510",
     "status": "completed"
    },
    "tags": []
   },
   "outputs": [
    {
     "data": {
      "image/png": "[encoded data removed]",
      "text/plain": [
       "<Figure size 1000x600 with 1 Axes>"
      ]
     },
     "metadata": {},
     "output_type": "display_data"
    }
   ],
   "source": [
    "#boxplot of %diff in balance\n",
    "\n",
    "sns.boxplot(X_train_val, x=\"isFraud\", y=percentage_diff)\n",
    "plt.title(\"Percentage Diff by isFraud\")\n",
    "plt.show()"
   ]
  },
  {
   "cell_type": "markdown",
   "id": "e9eccc1d",
   "metadata": {
    "papermill": {
     "duration": 0.016666,
     "end_time": "2024-01-12T08:48:24.621120",
     "exception": false,
     "start_time": "2024-01-12T08:48:24.604454",
     "status": "completed"
    },
    "tags": []
   },
   "source": [
    "- Balance Difference that are higher tend to be classified as fraudulent\n",
    "- 40% change seems to the average threshold for Fraudulent transactions"
   ]
  },
  {
   "cell_type": "code",
   "execution_count": 21,
   "id": "f256fce3",
   "metadata": {
    "execution": {
     "iopub.execute_input": "2024-01-12T08:48:24.658069Z",
     "iopub.status.busy": "2024-01-12T08:48:24.657374Z",
     "iopub.status.idle": "2024-01-12T08:48:27.062355Z",
     "shell.execute_reply": "2024-01-12T08:48:27.060657Z"
    },
    "papermill": {
     "duration": 2.426587,
     "end_time": "2024-01-12T08:48:27.065571",
     "exception": false,
     "start_time": "2024-01-12T08:48:24.638984",
     "status": "completed"
    },
    "tags": []
   },
   "outputs": [
    {
     "data": {
      "text/plain": [
       "<Axes: xlabel='type'>"
      ]
     },
     "execution_count": 21,
     "metadata": {},
     "output_type": "execute_result"
    },
    {
     "data": {
      "image/png": "[encoded data removed]",
      "text/plain": [
       "<Figure size 1000x600 with 1 Axes>"
      ]
     },
     "metadata": {},
     "output_type": "display_data"
    }
   ],
   "source": [
    "sns.boxplot(X_train_val, x=\"type\", y=percentage_diff, hue=\"isFraud\")"
   ]
  },
  {
   "cell_type": "markdown",
   "id": "85bc81d4",
   "metadata": {
    "papermill": {
     "duration": 0.016013,
     "end_time": "2024-01-12T08:48:27.097807",
     "exception": false,
     "start_time": "2024-01-12T08:48:27.081794",
     "status": "completed"
    },
    "tags": []
   },
   "source": [
    "- Transaction with type \"CASH-IN\" and high difference ratio is likely to be fraudulent as show depicted above\n",
    "- We can Create a column that classifies CASH-IN with high %diffence and others "
   ]
  },
  {
   "cell_type": "code",
   "execution_count": 22,
   "id": "e3d6c09a",
   "metadata": {
    "execution": {
     "iopub.execute_input": "2024-01-12T08:48:27.133397Z",
     "iopub.status.busy": "2024-01-12T08:48:27.131685Z",
     "iopub.status.idle": "2024-01-12T08:48:27.675816Z",
     "shell.execute_reply": "2024-01-12T08:48:27.674247Z"
    },
    "papermill": {
     "duration": 0.565153,
     "end_time": "2024-01-12T08:48:27.679016",
     "exception": false,
     "start_time": "2024-01-12T08:48:27.113863",
     "status": "completed"
    },
    "tags": []
   },
   "outputs": [
    {
     "data": {
      "image/png": "[encoded data removed]",
      "text/plain": [
       "<Figure size 800x600 with 1 Axes>"
      ]
     },
     "metadata": {},
     "output_type": "display_data"
    }
   ],
   "source": [
    "# Investigate Contigency Tables of Columns\n",
    "\n",
    "freq = pd.crosstab(X_train_val[\"type\"], X_train_val[\"isFraud\"])\n",
    "proportions = freq/len(X_train_val)\n",
    "\n",
    "proportions.plot(kind='bar', stacked=True, figsize=(8, 6))\n",
    "plt.show()"
   ]
  },
  {
   "cell_type": "markdown",
   "id": "eb2c4737",
   "metadata": {
    "papermill": {
     "duration": 0.016355,
     "end_time": "2024-01-12T08:48:27.712128",
     "exception": false,
     "start_time": "2024-01-12T08:48:27.695773",
     "status": "completed"
    },
    "tags": []
   },
   "source": [
    "- Seems Transfer Transactions are more likely to be Fraudulent\n",
    "- We can investigate further"
   ]
  },
  {
   "cell_type": "code",
   "execution_count": 23,
   "id": "87791df6",
   "metadata": {
    "execution": {
     "iopub.execute_input": "2024-01-12T08:48:27.747772Z",
     "iopub.status.busy": "2024-01-12T08:48:27.747349Z",
     "iopub.status.idle": "2024-01-12T08:48:30.034345Z",
     "shell.execute_reply": "2024-01-12T08:48:30.032753Z"
    },
    "papermill": {
     "duration": 2.308834,
     "end_time": "2024-01-12T08:48:30.037592",
     "exception": false,
     "start_time": "2024-01-12T08:48:27.728758",
     "status": "completed"
    },
    "tags": []
   },
   "outputs": [
    {
     "data": {
      "image/png": "[encoded data removed]",
      "text/plain": [
       "<Figure size 1000x600 with 1 Axes>"
      ]
     },
     "metadata": {},
     "output_type": "display_data"
    }
   ],
   "source": [
    "sns.boxplot(X_train_val, x=\"Card Type\", y=percentage_diff, hue=\"isFraud\")\n",
    "plt.title(\"Card Type VS Percentage Diff (By isFraud)\")\n",
    "plt.show()"
   ]
  },
  {
   "cell_type": "markdown",
   "id": "3e5aa014",
   "metadata": {
    "papermill": {
     "duration": 0.017912,
     "end_time": "2024-01-12T08:48:30.072611",
     "exception": false,
     "start_time": "2024-01-12T08:48:30.054699",
     "status": "completed"
    },
    "tags": []
   },
   "source": [
    "- We can see that when the Card type is \"Mass\" and the percentage difference in balance is high, it's most likely to be a fraudulent transaction\n",
    "- Create a categorical column for this as well"
   ]
  },
  {
   "cell_type": "code",
   "execution_count": 24,
   "id": "1e290675",
   "metadata": {
    "execution": {
     "iopub.execute_input": "2024-01-12T08:48:30.110527Z",
     "iopub.status.busy": "2024-01-12T08:48:30.110098Z",
     "iopub.status.idle": "2024-01-12T08:48:30.590259Z",
     "shell.execute_reply": "2024-01-12T08:48:30.588977Z"
    },
    "papermill": {
     "duration": 0.503356,
     "end_time": "2024-01-12T08:48:30.593057",
     "exception": false,
     "start_time": "2024-01-12T08:48:30.089701",
     "status": "completed"
    },
    "tags": []
   },
   "outputs": [
    {
     "data": {
      "image/png": "[encoded data removed]",
      "text/plain": [
       "<Figure size 800x600 with 1 Axes>"
      ]
     },
     "metadata": {},
     "output_type": "display_data"
    }
   ],
   "source": [
    "# Investigate Contigency Tables of Columns\n",
    "\n",
    "freq = pd.crosstab(X_train_val[\"Card Type\"], X_train_val[\"isFraud\"])\n",
    "proportions = freq/len(X_train_val)\n",
    "\n",
    "proportions.plot(kind='bar', stacked=True, figsize=(8, 6))\n",
    "plt.show()"
   ]
  },
  {
   "cell_type": "markdown",
   "id": "6d7e7035",
   "metadata": {
    "papermill": {
     "duration": 0.018342,
     "end_time": "2024-01-12T08:48:30.630155",
     "exception": false,
     "start_time": "2024-01-12T08:48:30.611813",
     "status": "completed"
    },
    "tags": []
   },
   "source": [
    "### Split Train/Val Data"
   ]
  },
  {
   "cell_type": "code",
   "execution_count": 25,
   "id": "6cc32870",
   "metadata": {
    "execution": {
     "iopub.execute_input": "2024-01-12T08:48:30.669177Z",
     "iopub.status.busy": "2024-01-12T08:48:30.668676Z",
     "iopub.status.idle": "2024-01-12T08:48:31.910264Z",
     "shell.execute_reply": "2024-01-12T08:48:31.908700Z"
    },
    "papermill": {
     "duration": 1.265188,
     "end_time": "2024-01-12T08:48:31.913696",
     "exception": false,
     "start_time": "2024-01-12T08:48:30.648508",
     "status": "completed"
    },
    "tags": []
   },
   "outputs": [],
   "source": [
    "X_train, X_val = train_test_split(X_train_val, test_size=0.2, random_state=42)"
   ]
  },
  {
   "cell_type": "code",
   "execution_count": null,
   "id": "d730a003",
   "metadata": {
    "papermill": {
     "duration": 0.01733,
     "end_time": "2024-01-12T08:48:31.948704",
     "exception": false,
     "start_time": "2024-01-12T08:48:31.931374",
     "status": "completed"
    },
    "tags": []
   },
   "outputs": [],
   "source": []
  }
 ],
 "metadata": {
  "kaggle": {
   "accelerator": "none",
   "dataSources": [
    {
     "datasetId": 4216802,
     "sourceId": 7273683,
     "sourceType": "datasetVersion"
    }
   ],
   "dockerImageVersionId": 30635,
   "isGpuEnabled": false,
   "isInternetEnabled": true,
   "language": "python",
   "sourceType": "notebook"
  },
  "kernelspec": {
   "display_name": "Python 3",
   "language": "python",
   "name": "python3"
  },
  "language_info": {
   "codemirror_mode": {
    "name": "ipython",
    "version": 3
   },
   "file_extension": ".py",
   "mimetype": "text/x-python",
   "name": "python",
   "nbconvert_exporter": "python",
   "pygments_lexer": "ipython3",
   "version": "3.10.12"
  },
  "papermill": {
   "default_parameters": {},
   "duration": 114.343364,
   "end_time": "2024-01-12T08:48:33.096367",
   "environment_variables": {},
   "exception": null,
   "input_path": "__notebook__.ipynb",
   "output_path": "__notebook__.ipynb",
   "parameters": {},
   "start_time": "2024-01-12T08:46:38.753003",
   "version": "2.4.0"
  }
 },
 "nbformat": 4,
 "nbformat_minor": 5
}
